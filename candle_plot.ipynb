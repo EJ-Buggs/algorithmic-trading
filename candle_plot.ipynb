{
 "cells": [
  {
   "cell_type": "code",
   "execution_count": 2,
   "metadata": {},
   "outputs": [],
   "source": [
    "import pandas as pd\n",
    "import utils\n",
    "import plotly.graph_objects as go\n",
    "import instrument"
   ]
  },
  {
   "cell_type": "code",
   "execution_count": 3,
   "metadata": {},
   "outputs": [],
   "source": [
    "pair = \"CAD_CHF\"\n",
    "granularity = \"H1\"\n",
    "ma_list = [16,64]\n",
    "i_pair = instrument.Instrument.get_instrument_by_name(pair)"
   ]
  },
  {
   "cell_type": "code",
   "execution_count": 4,
   "metadata": {},
   "outputs": [],
   "source": [
    "df = pd.read_pickle(utils.get_his_data_filename(pair, granularity))\n",
    "non_cols = ['time', 'volume']\n",
    "mod_cols = [x for x in df.columns if x not in non_cols]\n",
    "df[mod_cols] = df[mod_cols].apply(pd.to_numeric)"
   ]
  },
  {
   "cell_type": "code",
   "execution_count": 5,
   "metadata": {},
   "outputs": [],
   "source": [
    "df_ma = df[['time', 'mid_o', 'mid_h', 'mid_l', 'mid_c']].copy()\n",
    "for ma in ma_list:  \n",
    "    df_ma[f'MA_{ma}'] = df_ma.mid_c.rolling(window=ma).mean()\n",
    "df_ma.dropna(inplace=True)\n",
    "df_ma.reset_index(drop=True, inplace=True)"
   ]
  },
  {
   "cell_type": "code",
   "execution_count": 6,
   "metadata": {},
   "outputs": [
    {
     "data": {
      "text/html": [
       "<div>\n",
       "<style scoped>\n",
       "    .dataframe tbody tr th:only-of-type {\n",
       "        vertical-align: middle;\n",
       "    }\n",
       "\n",
       "    .dataframe tbody tr th {\n",
       "        vertical-align: top;\n",
       "    }\n",
       "\n",
       "    .dataframe thead th {\n",
       "        text-align: right;\n",
       "    }\n",
       "</style>\n",
       "<table border=\"1\" class=\"dataframe\">\n",
       "  <thead>\n",
       "    <tr style=\"text-align: right;\">\n",
       "      <th></th>\n",
       "      <th>time</th>\n",
       "      <th>mid_o</th>\n",
       "      <th>mid_h</th>\n",
       "      <th>mid_l</th>\n",
       "      <th>mid_c</th>\n",
       "      <th>MA_16</th>\n",
       "      <th>MA_64</th>\n",
       "    </tr>\n",
       "  </thead>\n",
       "  <tbody>\n",
       "    <tr>\n",
       "      <th>0</th>\n",
       "      <td>2023-04-24T18:00:00.000000000Z</td>\n",
       "      <td>0.65588</td>\n",
       "      <td>0.65590</td>\n",
       "      <td>0.65532</td>\n",
       "      <td>0.65568</td>\n",
       "      <td>0.657024</td>\n",
       "      <td>0.660572</td>\n",
       "    </tr>\n",
       "    <tr>\n",
       "      <th>1</th>\n",
       "      <td>2023-04-24T19:00:00.000000000Z</td>\n",
       "      <td>0.65566</td>\n",
       "      <td>0.65612</td>\n",
       "      <td>0.65566</td>\n",
       "      <td>0.65604</td>\n",
       "      <td>0.656872</td>\n",
       "      <td>0.660419</td>\n",
       "    </tr>\n",
       "    <tr>\n",
       "      <th>2</th>\n",
       "      <td>2023-04-24T20:00:00.000000000Z</td>\n",
       "      <td>0.65603</td>\n",
       "      <td>0.65607</td>\n",
       "      <td>0.65546</td>\n",
       "      <td>0.65554</td>\n",
       "      <td>0.656708</td>\n",
       "      <td>0.660261</td>\n",
       "    </tr>\n",
       "    <tr>\n",
       "      <th>3</th>\n",
       "      <td>2023-04-24T21:00:00.000000000Z</td>\n",
       "      <td>0.65574</td>\n",
       "      <td>0.65602</td>\n",
       "      <td>0.65546</td>\n",
       "      <td>0.65560</td>\n",
       "      <td>0.656539</td>\n",
       "      <td>0.660106</td>\n",
       "    </tr>\n",
       "    <tr>\n",
       "      <th>4</th>\n",
       "      <td>2023-04-24T22:00:00.000000000Z</td>\n",
       "      <td>0.65558</td>\n",
       "      <td>0.65564</td>\n",
       "      <td>0.65540</td>\n",
       "      <td>0.65560</td>\n",
       "      <td>0.656398</td>\n",
       "      <td>0.659950</td>\n",
       "    </tr>\n",
       "  </tbody>\n",
       "</table>\n",
       "</div>"
      ],
      "text/plain": [
       "                             time    mid_o    mid_h    mid_l    mid_c  \\\n",
       "0  2023-04-24T18:00:00.000000000Z  0.65588  0.65590  0.65532  0.65568   \n",
       "1  2023-04-24T19:00:00.000000000Z  0.65566  0.65612  0.65566  0.65604   \n",
       "2  2023-04-24T20:00:00.000000000Z  0.65603  0.65607  0.65546  0.65554   \n",
       "3  2023-04-24T21:00:00.000000000Z  0.65574  0.65602  0.65546  0.65560   \n",
       "4  2023-04-24T22:00:00.000000000Z  0.65558  0.65564  0.65540  0.65560   \n",
       "\n",
       "      MA_16     MA_64  \n",
       "0  0.657024  0.660572  \n",
       "1  0.656872  0.660419  \n",
       "2  0.656708  0.660261  \n",
       "3  0.656539  0.660106  \n",
       "4  0.656398  0.659950  "
      ]
     },
     "execution_count": 6,
     "metadata": {},
     "output_type": "execute_result"
    }
   ],
   "source": [
    "df_ma.head()"
   ]
  },
  {
   "cell_type": "code",
   "execution_count": 7,
   "metadata": {},
   "outputs": [],
   "source": [
    "def is_trade(row):\n",
    "    if row.DIFF >= 0 and row.DIFF_PREV < 0:\n",
    "        return 1\n",
    "    if row.DIFF <= 0 and row.DIFF_PREV > 0:\n",
    "        return -1\n",
    "    return 0"
   ]
  },
  {
   "cell_type": "code",
   "execution_count": 8,
   "metadata": {},
   "outputs": [],
   "source": [
    "df_ma['DIFF'] = df_ma.MA_16 - df_ma.MA_64\n",
    "df_ma['DIFF_PREV'] = df_ma.DIFF.shift(1)\n",
    "df_ma['IS_TRADE'] = df_ma.apply(is_trade, axis=1)\n",
    "df_trades = df_ma[df_ma.IS_TRADE!=0].copy()"
   ]
  },
  {
   "cell_type": "code",
   "execution_count": 9,
   "metadata": {},
   "outputs": [
    {
     "data": {
      "text/html": [
       "<div>\n",
       "<style scoped>\n",
       "    .dataframe tbody tr th:only-of-type {\n",
       "        vertical-align: middle;\n",
       "    }\n",
       "\n",
       "    .dataframe tbody tr th {\n",
       "        vertical-align: top;\n",
       "    }\n",
       "\n",
       "    .dataframe thead th {\n",
       "        text-align: right;\n",
       "    }\n",
       "</style>\n",
       "<table border=\"1\" class=\"dataframe\">\n",
       "  <thead>\n",
       "    <tr style=\"text-align: right;\">\n",
       "      <th></th>\n",
       "      <th>time</th>\n",
       "      <th>mid_o</th>\n",
       "      <th>mid_h</th>\n",
       "      <th>mid_l</th>\n",
       "      <th>mid_c</th>\n",
       "      <th>MA_16</th>\n",
       "      <th>MA_64</th>\n",
       "      <th>DIFF</th>\n",
       "      <th>DIFF_PREV</th>\n",
       "      <th>IS_TRADE</th>\n",
       "    </tr>\n",
       "  </thead>\n",
       "  <tbody>\n",
       "    <tr>\n",
       "      <th>66</th>\n",
       "      <td>2023-04-27T12:00:00.000000000Z</td>\n",
       "      <td>0.65634</td>\n",
       "      <td>0.65850</td>\n",
       "      <td>0.65519</td>\n",
       "      <td>0.65787</td>\n",
       "      <td>0.654308</td>\n",
       "      <td>0.654113</td>\n",
       "      <td>0.000195</td>\n",
       "      <td>-0.000039</td>\n",
       "      <td>1</td>\n",
       "    </tr>\n",
       "    <tr>\n",
       "      <th>146</th>\n",
       "      <td>2023-05-02T20:00:00.000000000Z</td>\n",
       "      <td>0.65532</td>\n",
       "      <td>0.65563</td>\n",
       "      <td>0.65520</td>\n",
       "      <td>0.65558</td>\n",
       "      <td>0.658992</td>\n",
       "      <td>0.659198</td>\n",
       "      <td>-0.000206</td>\n",
       "      <td>0.000152</td>\n",
       "      <td>-1</td>\n",
       "    </tr>\n",
       "    <tr>\n",
       "      <th>199</th>\n",
       "      <td>2023-05-05T01:00:00.000000000Z</td>\n",
       "      <td>0.65472</td>\n",
       "      <td>0.65473</td>\n",
       "      <td>0.65420</td>\n",
       "      <td>0.65439</td>\n",
       "      <td>0.653466</td>\n",
       "      <td>0.653211</td>\n",
       "      <td>0.000255</td>\n",
       "      <td>-0.000006</td>\n",
       "      <td>1</td>\n",
       "    </tr>\n",
       "    <tr>\n",
       "      <th>273</th>\n",
       "      <td>2023-05-10T03:00:00.000000000Z</td>\n",
       "      <td>0.66506</td>\n",
       "      <td>0.66512</td>\n",
       "      <td>0.66478</td>\n",
       "      <td>0.66486</td>\n",
       "      <td>0.665484</td>\n",
       "      <td>0.665545</td>\n",
       "      <td>-0.000061</td>\n",
       "      <td>0.000119</td>\n",
       "      <td>-1</td>\n",
       "    </tr>\n",
       "    <tr>\n",
       "      <th>303</th>\n",
       "      <td>2023-05-11T09:00:00.000000000Z</td>\n",
       "      <td>0.66723</td>\n",
       "      <td>0.66738</td>\n",
       "      <td>0.66648</td>\n",
       "      <td>0.66692</td>\n",
       "      <td>0.665543</td>\n",
       "      <td>0.665529</td>\n",
       "      <td>0.000015</td>\n",
       "      <td>-0.000114</td>\n",
       "      <td>1</td>\n",
       "    </tr>\n",
       "  </tbody>\n",
       "</table>\n",
       "</div>"
      ],
      "text/plain": [
       "                               time    mid_o    mid_h    mid_l    mid_c  \\\n",
       "66   2023-04-27T12:00:00.000000000Z  0.65634  0.65850  0.65519  0.65787   \n",
       "146  2023-05-02T20:00:00.000000000Z  0.65532  0.65563  0.65520  0.65558   \n",
       "199  2023-05-05T01:00:00.000000000Z  0.65472  0.65473  0.65420  0.65439   \n",
       "273  2023-05-10T03:00:00.000000000Z  0.66506  0.66512  0.66478  0.66486   \n",
       "303  2023-05-11T09:00:00.000000000Z  0.66723  0.66738  0.66648  0.66692   \n",
       "\n",
       "        MA_16     MA_64      DIFF  DIFF_PREV  IS_TRADE  \n",
       "66   0.654308  0.654113  0.000195  -0.000039         1  \n",
       "146  0.658992  0.659198 -0.000206   0.000152        -1  \n",
       "199  0.653466  0.653211  0.000255  -0.000006         1  \n",
       "273  0.665484  0.665545 -0.000061   0.000119        -1  \n",
       "303  0.665543  0.665529  0.000015  -0.000114         1  "
      ]
     },
     "execution_count": 9,
     "metadata": {},
     "output_type": "execute_result"
    }
   ],
   "source": [
    "df_trades.head()"
   ]
  },
  {
   "cell_type": "code",
   "execution_count": 10,
   "metadata": {},
   "outputs": [],
   "source": [
    "df_trades[\"DELTA\"] = ( df_trades.mid_c.diff() / i_pair.pipLocation).shift(-1)\n",
    "df_trades[\"GAIN\"] =df_trades[\"DELTA\"] * df_trades[\"IS_TRADE\"]"
   ]
  },
  {
   "cell_type": "code",
   "execution_count": 17,
   "metadata": {},
   "outputs": [],
   "source": [
    "from dateutil.parser import *\n",
    "df_trades[\"time\"] = [parse(x) for x in df_trades.time]"
   ]
  },
  {
   "cell_type": "code",
   "execution_count": 19,
   "metadata": {},
   "outputs": [],
   "source": [
    "df_trades[\"DURATION\"] = df_trades.time.diff().shift(-1)"
   ]
  },
  {
   "cell_type": "code",
   "execution_count": 25,
   "metadata": {},
   "outputs": [],
   "source": [
    "df_trades[\"DURATION\"] = [x.total_seconds() / 3600 for x in df_trades.DURATION]"
   ]
  },
  {
   "cell_type": "code",
   "execution_count": 27,
   "metadata": {},
   "outputs": [
    {
     "data": {
      "text/html": [
       "<div>\n",
       "<style scoped>\n",
       "    .dataframe tbody tr th:only-of-type {\n",
       "        vertical-align: middle;\n",
       "    }\n",
       "\n",
       "    .dataframe tbody tr th {\n",
       "        vertical-align: top;\n",
       "    }\n",
       "\n",
       "    .dataframe thead th {\n",
       "        text-align: right;\n",
       "    }\n",
       "</style>\n",
       "<table border=\"1\" class=\"dataframe\">\n",
       "  <thead>\n",
       "    <tr style=\"text-align: right;\">\n",
       "      <th></th>\n",
       "      <th>time</th>\n",
       "      <th>DURATION</th>\n",
       "    </tr>\n",
       "  </thead>\n",
       "  <tbody>\n",
       "    <tr>\n",
       "      <th>3872</th>\n",
       "      <td>2023-12-06 05:00:00+00:00</td>\n",
       "      <td>5.0</td>\n",
       "    </tr>\n",
       "    <tr>\n",
       "      <th>3877</th>\n",
       "      <td>2023-12-06 10:00:00+00:00</td>\n",
       "      <td>2.0</td>\n",
       "    </tr>\n",
       "    <tr>\n",
       "      <th>3879</th>\n",
       "      <td>2023-12-06 12:00:00+00:00</td>\n",
       "      <td>5.0</td>\n",
       "    </tr>\n",
       "    <tr>\n",
       "      <th>3884</th>\n",
       "      <td>2023-12-06 17:00:00+00:00</td>\n",
       "      <td>34.0</td>\n",
       "    </tr>\n",
       "    <tr>\n",
       "      <th>3918</th>\n",
       "      <td>2023-12-08 03:00:00+00:00</td>\n",
       "      <td>NaN</td>\n",
       "    </tr>\n",
       "  </tbody>\n",
       "</table>\n",
       "</div>"
      ],
      "text/plain": [
       "                          time  DURATION\n",
       "3872 2023-12-06 05:00:00+00:00       5.0\n",
       "3877 2023-12-06 10:00:00+00:00       2.0\n",
       "3879 2023-12-06 12:00:00+00:00       5.0\n",
       "3884 2023-12-06 17:00:00+00:00      34.0\n",
       "3918 2023-12-08 03:00:00+00:00       NaN"
      ]
     },
     "execution_count": 27,
     "metadata": {},
     "output_type": "execute_result"
    }
   ],
   "source": [
    "df_trades[['time', 'DURATION']].tail()"
   ]
  },
  {
   "cell_type": "code",
   "execution_count": 20,
   "metadata": {},
   "outputs": [
    {
     "name": "stdout",
     "output_type": "stream",
     "text": [
      "<class 'pandas.core.frame.DataFrame'>\n",
      "Index: 73 entries, 66 to 3918\n",
      "Data columns (total 13 columns):\n",
      " #   Column     Non-Null Count  Dtype                  \n",
      "---  ------     --------------  -----                  \n",
      " 0   time       73 non-null     datetime64[ns, tzutc()]\n",
      " 1   mid_o      73 non-null     float64                \n",
      " 2   mid_h      73 non-null     float64                \n",
      " 3   mid_l      73 non-null     float64                \n",
      " 4   mid_c      73 non-null     float64                \n",
      " 5   MA_16      73 non-null     float64                \n",
      " 6   MA_64      73 non-null     float64                \n",
      " 7   DIFF       73 non-null     float64                \n",
      " 8   DIFF_PREV  73 non-null     float64                \n",
      " 9   IS_TRADE   73 non-null     int64                  \n",
      " 10  DELTA      72 non-null     float64                \n",
      " 11  GAIN       72 non-null     float64                \n",
      " 12  DURATION   72 non-null     timedelta64[ns]        \n",
      "dtypes: datetime64[ns, tzutc()](1), float64(10), int64(1), timedelta64[ns](1)\n",
      "memory usage: 8.0 KB\n"
     ]
    }
   ],
   "source": [
    "df_trades.info()"
   ]
  },
  {
   "cell_type": "code",
   "execution_count": 28,
   "metadata": {},
   "outputs": [],
   "source": [
    "df_all = pd.read_pickle(\"all_trades.pkl\")"
   ]
  },
  {
   "cell_type": "code",
   "execution_count": 30,
   "metadata": {},
   "outputs": [
    {
     "data": {
      "text/html": [
       "<div>\n",
       "<style scoped>\n",
       "    .dataframe tbody tr th:only-of-type {\n",
       "        vertical-align: middle;\n",
       "    }\n",
       "\n",
       "    .dataframe tbody tr th {\n",
       "        vertical-align: top;\n",
       "    }\n",
       "\n",
       "    .dataframe thead th {\n",
       "        text-align: right;\n",
       "    }\n",
       "</style>\n",
       "<table border=\"1\" class=\"dataframe\">\n",
       "  <thead>\n",
       "    <tr style=\"text-align: right;\">\n",
       "      <th></th>\n",
       "      <th>mid_c</th>\n",
       "      <th>DIFF</th>\n",
       "      <th>DIFF_PREV</th>\n",
       "      <th>IS_TRADE</th>\n",
       "      <th>DELTA</th>\n",
       "      <th>GAIN</th>\n",
       "      <th>MASHORT</th>\n",
       "      <th>MALONG</th>\n",
       "      <th>DURATION</th>\n",
       "    </tr>\n",
       "  </thead>\n",
       "  <tbody>\n",
       "    <tr>\n",
       "      <th>count</th>\n",
       "      <td>64681.000000</td>\n",
       "      <td>64681.000000</td>\n",
       "      <td>6.468100e+04</td>\n",
       "      <td>64681.000000</td>\n",
       "      <td>64681.000000</td>\n",
       "      <td>64681.000000</td>\n",
       "      <td>64681.000000</td>\n",
       "      <td>64681.000000</td>\n",
       "      <td>64681.000000</td>\n",
       "    </tr>\n",
       "    <tr>\n",
       "      <th>mean</th>\n",
       "      <td>39.435939</td>\n",
       "      <td>0.000066</td>\n",
       "      <td>-1.310270e-04</td>\n",
       "      <td>0.001005</td>\n",
       "      <td>3.198375</td>\n",
       "      <td>-0.330844</td>\n",
       "      <td>11.776132</td>\n",
       "      <td>60.437161</td>\n",
       "      <td>51.248342</td>\n",
       "    </tr>\n",
       "    <tr>\n",
       "      <th>std</th>\n",
       "      <td>64.091972</td>\n",
       "      <td>0.021614</td>\n",
       "      <td>2.160798e-02</td>\n",
       "      <td>1.000007</td>\n",
       "      <td>72.715599</td>\n",
       "      <td>72.785154</td>\n",
       "      <td>12.508732</td>\n",
       "      <td>64.011155</td>\n",
       "      <td>85.720500</td>\n",
       "    </tr>\n",
       "    <tr>\n",
       "      <th>min</th>\n",
       "      <td>0.518710</td>\n",
       "      <td>-0.427004</td>\n",
       "      <td>-4.495156e-01</td>\n",
       "      <td>-1.000000</td>\n",
       "      <td>-800.900000</td>\n",
       "      <td>-524.300000</td>\n",
       "      <td>4.000000</td>\n",
       "      <td>8.000000</td>\n",
       "      <td>1.000000</td>\n",
       "    </tr>\n",
       "    <tr>\n",
       "      <th>25%</th>\n",
       "      <td>0.878580</td>\n",
       "      <td>-0.000192</td>\n",
       "      <td>-1.925000e-04</td>\n",
       "      <td>-1.000000</td>\n",
       "      <td>-20.500000</td>\n",
       "      <td>-28.200000</td>\n",
       "      <td>4.000000</td>\n",
       "      <td>16.000000</td>\n",
       "      <td>6.000000</td>\n",
       "    </tr>\n",
       "    <tr>\n",
       "      <th>50%</th>\n",
       "      <td>1.329440</td>\n",
       "      <td>0.000000</td>\n",
       "      <td>-3.125000e-07</td>\n",
       "      <td>1.000000</td>\n",
       "      <td>0.900000</td>\n",
       "      <td>-9.600000</td>\n",
       "      <td>8.000000</td>\n",
       "      <td>32.000000</td>\n",
       "      <td>18.000000</td>\n",
       "    </tr>\n",
       "    <tr>\n",
       "      <th>75%</th>\n",
       "      <td>87.516000</td>\n",
       "      <td>0.000190</td>\n",
       "      <td>1.900000e-04</td>\n",
       "      <td>1.000000</td>\n",
       "      <td>23.300000</td>\n",
       "      <td>8.000000</td>\n",
       "      <td>16.000000</td>\n",
       "      <td>96.000000</td>\n",
       "      <td>63.000000</td>\n",
       "    </tr>\n",
       "    <tr>\n",
       "      <th>max</th>\n",
       "      <td>188.383000</td>\n",
       "      <td>0.465750</td>\n",
       "      <td>4.523203e-01</td>\n",
       "      <td>1.000000</td>\n",
       "      <td>1251.800000</td>\n",
       "      <td>1251.800000</td>\n",
       "      <td>64.000000</td>\n",
       "      <td>256.000000</td>\n",
       "      <td>1308.000000</td>\n",
       "    </tr>\n",
       "  </tbody>\n",
       "</table>\n",
       "</div>"
      ],
      "text/plain": [
       "              mid_c          DIFF     DIFF_PREV      IS_TRADE         DELTA  \\\n",
       "count  64681.000000  64681.000000  6.468100e+04  64681.000000  64681.000000   \n",
       "mean      39.435939      0.000066 -1.310270e-04      0.001005      3.198375   \n",
       "std       64.091972      0.021614  2.160798e-02      1.000007     72.715599   \n",
       "min        0.518710     -0.427004 -4.495156e-01     -1.000000   -800.900000   \n",
       "25%        0.878580     -0.000192 -1.925000e-04     -1.000000    -20.500000   \n",
       "50%        1.329440      0.000000 -3.125000e-07      1.000000      0.900000   \n",
       "75%       87.516000      0.000190  1.900000e-04      1.000000     23.300000   \n",
       "max      188.383000      0.465750  4.523203e-01      1.000000   1251.800000   \n",
       "\n",
       "               GAIN       MASHORT        MALONG      DURATION  \n",
       "count  64681.000000  64681.000000  64681.000000  64681.000000  \n",
       "mean      -0.330844     11.776132     60.437161     51.248342  \n",
       "std       72.785154     12.508732     64.011155     85.720500  \n",
       "min     -524.300000      4.000000      8.000000      1.000000  \n",
       "25%      -28.200000      4.000000     16.000000      6.000000  \n",
       "50%       -9.600000      8.000000     32.000000     18.000000  \n",
       "75%        8.000000     16.000000     96.000000     63.000000  \n",
       "max     1251.800000     64.000000    256.000000   1308.000000  "
      ]
     },
     "execution_count": 30,
     "metadata": {},
     "output_type": "execute_result"
    }
   ],
   "source": [
    "df_all.describe()"
   ]
  },
  {
   "cell_type": "markdown",
   "metadata": {},
   "source": []
  },
  {
   "cell_type": "code",
   "execution_count": 12,
   "metadata": {},
   "outputs": [
    {
     "data": {
      "text/plain": [
       "395.70000000000533"
      ]
     },
     "execution_count": 12,
     "metadata": {},
     "output_type": "execute_result"
    }
   ],
   "source": [
    "df_trades[\"GAIN\"].sum()"
   ]
  },
  {
   "cell_type": "code",
   "execution_count": 13,
   "metadata": {},
   "outputs": [],
   "source": [
    "df_plot = df_ma.iloc[0:24].copy()"
   ]
  },
  {
   "cell_type": "code",
   "execution_count": 14,
   "metadata": {},
   "outputs": [
    {
     "data": {
      "text/plain": [
       "(24, 10)"
      ]
     },
     "execution_count": 14,
     "metadata": {},
     "output_type": "execute_result"
    }
   ],
   "source": [
    "df_plot.shape"
   ]
  },
  {
   "cell_type": "code",
   "execution_count": 15,
   "metadata": {},
   "outputs": [
    {
     "data": {
      "application/vnd.plotly.v1+json": {
       "config": {
        "plotlyServerURL": "https://plot.ly"
       },
       "data": [
        {
         "close": [
          0.65568,
          0.65604,
          0.65554,
          0.6556,
          0.6556,
          0.65548,
          0.65556,
          0.6551,
          0.65497,
          0.65506,
          0.65499,
          0.6547,
          0.65506,
          0.65356,
          0.65341,
          0.65314,
          0.65365,
          0.65348,
          0.65394,
          0.65368,
          0.6554,
          0.6549,
          0.65462,
          0.65361
         ],
         "decreasing": {
          "fillcolor": "#CC2E3C",
          "line": {
           "color": "#FF3A4C"
          }
         },
         "high": [
          0.6559,
          0.65612,
          0.65607,
          0.65602,
          0.65564,
          0.65568,
          0.65562,
          0.65574,
          0.65518,
          0.65512,
          0.65512,
          0.655,
          0.65536,
          0.65586,
          0.65366,
          0.65352,
          0.65376,
          0.65366,
          0.65404,
          0.65428,
          0.65554,
          0.65556,
          0.65505,
          0.65468
         ],
         "increasing": {
          "fillcolor": "#24A06B",
          "line": {
           "color": "#2EC886"
          }
         },
         "line": {
          "width": 1
         },
         "low": [
          0.65532,
          0.65566,
          0.65546,
          0.65546,
          0.6554,
          0.65536,
          0.65528,
          0.65505,
          0.65484,
          0.65486,
          0.65463,
          0.65461,
          0.65456,
          0.65354,
          0.65256,
          0.65284,
          0.65313,
          0.653,
          0.65294,
          0.65352,
          0.6534,
          0.6544,
          0.65423,
          0.65361
         ],
         "opacity": 1,
         "open": [
          0.65588,
          0.65566,
          0.65603,
          0.65574,
          0.65558,
          0.6556,
          0.65548,
          0.65557,
          0.6551,
          0.65496,
          0.65505,
          0.65498,
          0.65478,
          0.65504,
          0.65358,
          0.65346,
          0.65313,
          0.65365,
          0.65346,
          0.65394,
          0.65366,
          0.65542,
          0.6549,
          0.65462
         ],
         "type": "candlestick",
         "x": [
          "2023-04-24T18:00:00.000000000Z",
          "2023-04-24T19:00:00.000000000Z",
          "2023-04-24T20:00:00.000000000Z",
          "2023-04-24T21:00:00.000000000Z",
          "2023-04-24T22:00:00.000000000Z",
          "2023-04-24T23:00:00.000000000Z",
          "2023-04-25T00:00:00.000000000Z",
          "2023-04-25T01:00:00.000000000Z",
          "2023-04-25T02:00:00.000000000Z",
          "2023-04-25T03:00:00.000000000Z",
          "2023-04-25T04:00:00.000000000Z",
          "2023-04-25T05:00:00.000000000Z",
          "2023-04-25T06:00:00.000000000Z",
          "2023-04-25T07:00:00.000000000Z",
          "2023-04-25T08:00:00.000000000Z",
          "2023-04-25T09:00:00.000000000Z",
          "2023-04-25T10:00:00.000000000Z",
          "2023-04-25T11:00:00.000000000Z",
          "2023-04-25T12:00:00.000000000Z",
          "2023-04-25T13:00:00.000000000Z",
          "2023-04-25T14:00:00.000000000Z",
          "2023-04-25T15:00:00.000000000Z",
          "2023-04-25T16:00:00.000000000Z",
          "2023-04-25T17:00:00.000000000Z"
         ]
        },
        {
         "line": {
          "shape": "spline",
          "width": 2
         },
         "name": "MA_16",
         "type": "scatter",
         "x": [
          "2023-04-24T18:00:00.000000000Z",
          "2023-04-24T19:00:00.000000000Z",
          "2023-04-24T20:00:00.000000000Z",
          "2023-04-24T21:00:00.000000000Z",
          "2023-04-24T22:00:00.000000000Z",
          "2023-04-24T23:00:00.000000000Z",
          "2023-04-25T00:00:00.000000000Z",
          "2023-04-25T01:00:00.000000000Z",
          "2023-04-25T02:00:00.000000000Z",
          "2023-04-25T03:00:00.000000000Z",
          "2023-04-25T04:00:00.000000000Z",
          "2023-04-25T05:00:00.000000000Z",
          "2023-04-25T06:00:00.000000000Z",
          "2023-04-25T07:00:00.000000000Z",
          "2023-04-25T08:00:00.000000000Z",
          "2023-04-25T09:00:00.000000000Z",
          "2023-04-25T10:00:00.000000000Z",
          "2023-04-25T11:00:00.000000000Z",
          "2023-04-25T12:00:00.000000000Z",
          "2023-04-25T13:00:00.000000000Z",
          "2023-04-25T14:00:00.000000000Z",
          "2023-04-25T15:00:00.000000000Z",
          "2023-04-25T16:00:00.000000000Z",
          "2023-04-25T17:00:00.000000000Z"
         ],
         "y": [
          0.657024375,
          0.656871875,
          0.656708125,
          0.65653875,
          0.6563981249999999,
          0.6562656250000001,
          0.656161875,
          0.6560131250000001,
          0.65591125,
          0.655771875,
          0.6556649999999999,
          0.65556125,
          0.6554737500000001,
          0.65531,
          0.655138125,
          0.654968125,
          0.6548412499999999,
          0.65468125,
          0.65458125,
          0.65446125,
          0.65444875,
          0.6544125,
          0.65435375,
          0.6542606249999999
         ]
        },
        {
         "line": {
          "shape": "spline",
          "width": 2
         },
         "name": "MA_64",
         "type": "scatter",
         "x": [
          "2023-04-24T18:00:00.000000000Z",
          "2023-04-24T19:00:00.000000000Z",
          "2023-04-24T20:00:00.000000000Z",
          "2023-04-24T21:00:00.000000000Z",
          "2023-04-24T22:00:00.000000000Z",
          "2023-04-24T23:00:00.000000000Z",
          "2023-04-25T00:00:00.000000000Z",
          "2023-04-25T01:00:00.000000000Z",
          "2023-04-25T02:00:00.000000000Z",
          "2023-04-25T03:00:00.000000000Z",
          "2023-04-25T04:00:00.000000000Z",
          "2023-04-25T05:00:00.000000000Z",
          "2023-04-25T06:00:00.000000000Z",
          "2023-04-25T07:00:00.000000000Z",
          "2023-04-25T08:00:00.000000000Z",
          "2023-04-25T09:00:00.000000000Z",
          "2023-04-25T10:00:00.000000000Z",
          "2023-04-25T11:00:00.000000000Z",
          "2023-04-25T12:00:00.000000000Z",
          "2023-04-25T13:00:00.000000000Z",
          "2023-04-25T14:00:00.000000000Z",
          "2023-04-25T15:00:00.000000000Z",
          "2023-04-25T16:00:00.000000000Z",
          "2023-04-25T17:00:00.000000000Z"
         ],
         "y": [
          0.66057171875,
          0.66041859375,
          0.66026078125,
          0.6601064062499999,
          0.65995046875,
          0.6597965625000001,
          0.6596509375,
          0.6594975,
          0.6593578125,
          0.65921625,
          0.65909203125,
          0.65896578125,
          0.65882203125,
          0.658651875,
          0.65848296875,
          0.65831609375,
          0.658170625,
          0.65802171875,
          0.65789328125,
          0.6577590625,
          0.6576559375000001,
          0.6575453125,
          0.65742125,
          0.65729453125
         ]
        }
       ],
       "layout": {
        "font": {
         "color": "#e1e1e1",
         "size": 10
        },
        "height": 400,
        "margin": {
         "b": 10,
         "l": 10,
         "r": 10,
         "t": 10
        },
        "paper_bgcolor": "#1e1e1e",
        "plot_bgcolor": "#1e1e1e",
        "template": {
         "data": {
          "bar": [
           {
            "error_x": {
             "color": "#2a3f5f"
            },
            "error_y": {
             "color": "#2a3f5f"
            },
            "marker": {
             "line": {
              "color": "#E5ECF6",
              "width": 0.5
             },
             "pattern": {
              "fillmode": "overlay",
              "size": 10,
              "solidity": 0.2
             }
            },
            "type": "bar"
           }
          ],
          "barpolar": [
           {
            "marker": {
             "line": {
              "color": "#E5ECF6",
              "width": 0.5
             },
             "pattern": {
              "fillmode": "overlay",
              "size": 10,
              "solidity": 0.2
             }
            },
            "type": "barpolar"
           }
          ],
          "carpet": [
           {
            "aaxis": {
             "endlinecolor": "#2a3f5f",
             "gridcolor": "white",
             "linecolor": "white",
             "minorgridcolor": "white",
             "startlinecolor": "#2a3f5f"
            },
            "baxis": {
             "endlinecolor": "#2a3f5f",
             "gridcolor": "white",
             "linecolor": "white",
             "minorgridcolor": "white",
             "startlinecolor": "#2a3f5f"
            },
            "type": "carpet"
           }
          ],
          "choropleth": [
           {
            "colorbar": {
             "outlinewidth": 0,
             "ticks": ""
            },
            "type": "choropleth"
           }
          ],
          "contour": [
           {
            "colorbar": {
             "outlinewidth": 0,
             "ticks": ""
            },
            "colorscale": [
             [
              0,
              "#0d0887"
             ],
             [
              0.1111111111111111,
              "#46039f"
             ],
             [
              0.2222222222222222,
              "#7201a8"
             ],
             [
              0.3333333333333333,
              "#9c179e"
             ],
             [
              0.4444444444444444,
              "#bd3786"
             ],
             [
              0.5555555555555556,
              "#d8576b"
             ],
             [
              0.6666666666666666,
              "#ed7953"
             ],
             [
              0.7777777777777778,
              "#fb9f3a"
             ],
             [
              0.8888888888888888,
              "#fdca26"
             ],
             [
              1,
              "#f0f921"
             ]
            ],
            "type": "contour"
           }
          ],
          "contourcarpet": [
           {
            "colorbar": {
             "outlinewidth": 0,
             "ticks": ""
            },
            "type": "contourcarpet"
           }
          ],
          "heatmap": [
           {
            "colorbar": {
             "outlinewidth": 0,
             "ticks": ""
            },
            "colorscale": [
             [
              0,
              "#0d0887"
             ],
             [
              0.1111111111111111,
              "#46039f"
             ],
             [
              0.2222222222222222,
              "#7201a8"
             ],
             [
              0.3333333333333333,
              "#9c179e"
             ],
             [
              0.4444444444444444,
              "#bd3786"
             ],
             [
              0.5555555555555556,
              "#d8576b"
             ],
             [
              0.6666666666666666,
              "#ed7953"
             ],
             [
              0.7777777777777778,
              "#fb9f3a"
             ],
             [
              0.8888888888888888,
              "#fdca26"
             ],
             [
              1,
              "#f0f921"
             ]
            ],
            "type": "heatmap"
           }
          ],
          "heatmapgl": [
           {
            "colorbar": {
             "outlinewidth": 0,
             "ticks": ""
            },
            "colorscale": [
             [
              0,
              "#0d0887"
             ],
             [
              0.1111111111111111,
              "#46039f"
             ],
             [
              0.2222222222222222,
              "#7201a8"
             ],
             [
              0.3333333333333333,
              "#9c179e"
             ],
             [
              0.4444444444444444,
              "#bd3786"
             ],
             [
              0.5555555555555556,
              "#d8576b"
             ],
             [
              0.6666666666666666,
              "#ed7953"
             ],
             [
              0.7777777777777778,
              "#fb9f3a"
             ],
             [
              0.8888888888888888,
              "#fdca26"
             ],
             [
              1,
              "#f0f921"
             ]
            ],
            "type": "heatmapgl"
           }
          ],
          "histogram": [
           {
            "marker": {
             "pattern": {
              "fillmode": "overlay",
              "size": 10,
              "solidity": 0.2
             }
            },
            "type": "histogram"
           }
          ],
          "histogram2d": [
           {
            "colorbar": {
             "outlinewidth": 0,
             "ticks": ""
            },
            "colorscale": [
             [
              0,
              "#0d0887"
             ],
             [
              0.1111111111111111,
              "#46039f"
             ],
             [
              0.2222222222222222,
              "#7201a8"
             ],
             [
              0.3333333333333333,
              "#9c179e"
             ],
             [
              0.4444444444444444,
              "#bd3786"
             ],
             [
              0.5555555555555556,
              "#d8576b"
             ],
             [
              0.6666666666666666,
              "#ed7953"
             ],
             [
              0.7777777777777778,
              "#fb9f3a"
             ],
             [
              0.8888888888888888,
              "#fdca26"
             ],
             [
              1,
              "#f0f921"
             ]
            ],
            "type": "histogram2d"
           }
          ],
          "histogram2dcontour": [
           {
            "colorbar": {
             "outlinewidth": 0,
             "ticks": ""
            },
            "colorscale": [
             [
              0,
              "#0d0887"
             ],
             [
              0.1111111111111111,
              "#46039f"
             ],
             [
              0.2222222222222222,
              "#7201a8"
             ],
             [
              0.3333333333333333,
              "#9c179e"
             ],
             [
              0.4444444444444444,
              "#bd3786"
             ],
             [
              0.5555555555555556,
              "#d8576b"
             ],
             [
              0.6666666666666666,
              "#ed7953"
             ],
             [
              0.7777777777777778,
              "#fb9f3a"
             ],
             [
              0.8888888888888888,
              "#fdca26"
             ],
             [
              1,
              "#f0f921"
             ]
            ],
            "type": "histogram2dcontour"
           }
          ],
          "mesh3d": [
           {
            "colorbar": {
             "outlinewidth": 0,
             "ticks": ""
            },
            "type": "mesh3d"
           }
          ],
          "parcoords": [
           {
            "line": {
             "colorbar": {
              "outlinewidth": 0,
              "ticks": ""
             }
            },
            "type": "parcoords"
           }
          ],
          "pie": [
           {
            "automargin": true,
            "type": "pie"
           }
          ],
          "scatter": [
           {
            "fillpattern": {
             "fillmode": "overlay",
             "size": 10,
             "solidity": 0.2
            },
            "type": "scatter"
           }
          ],
          "scatter3d": [
           {
            "line": {
             "colorbar": {
              "outlinewidth": 0,
              "ticks": ""
             }
            },
            "marker": {
             "colorbar": {
              "outlinewidth": 0,
              "ticks": ""
             }
            },
            "type": "scatter3d"
           }
          ],
          "scattercarpet": [
           {
            "marker": {
             "colorbar": {
              "outlinewidth": 0,
              "ticks": ""
             }
            },
            "type": "scattercarpet"
           }
          ],
          "scattergeo": [
           {
            "marker": {
             "colorbar": {
              "outlinewidth": 0,
              "ticks": ""
             }
            },
            "type": "scattergeo"
           }
          ],
          "scattergl": [
           {
            "marker": {
             "colorbar": {
              "outlinewidth": 0,
              "ticks": ""
             }
            },
            "type": "scattergl"
           }
          ],
          "scattermapbox": [
           {
            "marker": {
             "colorbar": {
              "outlinewidth": 0,
              "ticks": ""
             }
            },
            "type": "scattermapbox"
           }
          ],
          "scatterpolar": [
           {
            "marker": {
             "colorbar": {
              "outlinewidth": 0,
              "ticks": ""
             }
            },
            "type": "scatterpolar"
           }
          ],
          "scatterpolargl": [
           {
            "marker": {
             "colorbar": {
              "outlinewidth": 0,
              "ticks": ""
             }
            },
            "type": "scatterpolargl"
           }
          ],
          "scatterternary": [
           {
            "marker": {
             "colorbar": {
              "outlinewidth": 0,
              "ticks": ""
             }
            },
            "type": "scatterternary"
           }
          ],
          "surface": [
           {
            "colorbar": {
             "outlinewidth": 0,
             "ticks": ""
            },
            "colorscale": [
             [
              0,
              "#0d0887"
             ],
             [
              0.1111111111111111,
              "#46039f"
             ],
             [
              0.2222222222222222,
              "#7201a8"
             ],
             [
              0.3333333333333333,
              "#9c179e"
             ],
             [
              0.4444444444444444,
              "#bd3786"
             ],
             [
              0.5555555555555556,
              "#d8576b"
             ],
             [
              0.6666666666666666,
              "#ed7953"
             ],
             [
              0.7777777777777778,
              "#fb9f3a"
             ],
             [
              0.8888888888888888,
              "#fdca26"
             ],
             [
              1,
              "#f0f921"
             ]
            ],
            "type": "surface"
           }
          ],
          "table": [
           {
            "cells": {
             "fill": {
              "color": "#EBF0F8"
             },
             "line": {
              "color": "white"
             }
            },
            "header": {
             "fill": {
              "color": "#C8D4E3"
             },
             "line": {
              "color": "white"
             }
            },
            "type": "table"
           }
          ]
         },
         "layout": {
          "annotationdefaults": {
           "arrowcolor": "#2a3f5f",
           "arrowhead": 0,
           "arrowwidth": 1
          },
          "autotypenumbers": "strict",
          "coloraxis": {
           "colorbar": {
            "outlinewidth": 0,
            "ticks": ""
           }
          },
          "colorscale": {
           "diverging": [
            [
             0,
             "#8e0152"
            ],
            [
             0.1,
             "#c51b7d"
            ],
            [
             0.2,
             "#de77ae"
            ],
            [
             0.3,
             "#f1b6da"
            ],
            [
             0.4,
             "#fde0ef"
            ],
            [
             0.5,
             "#f7f7f7"
            ],
            [
             0.6,
             "#e6f5d0"
            ],
            [
             0.7,
             "#b8e186"
            ],
            [
             0.8,
             "#7fbc41"
            ],
            [
             0.9,
             "#4d9221"
            ],
            [
             1,
             "#276419"
            ]
           ],
           "sequential": [
            [
             0,
             "#0d0887"
            ],
            [
             0.1111111111111111,
             "#46039f"
            ],
            [
             0.2222222222222222,
             "#7201a8"
            ],
            [
             0.3333333333333333,
             "#9c179e"
            ],
            [
             0.4444444444444444,
             "#bd3786"
            ],
            [
             0.5555555555555556,
             "#d8576b"
            ],
            [
             0.6666666666666666,
             "#ed7953"
            ],
            [
             0.7777777777777778,
             "#fb9f3a"
            ],
            [
             0.8888888888888888,
             "#fdca26"
            ],
            [
             1,
             "#f0f921"
            ]
           ],
           "sequentialminus": [
            [
             0,
             "#0d0887"
            ],
            [
             0.1111111111111111,
             "#46039f"
            ],
            [
             0.2222222222222222,
             "#7201a8"
            ],
            [
             0.3333333333333333,
             "#9c179e"
            ],
            [
             0.4444444444444444,
             "#bd3786"
            ],
            [
             0.5555555555555556,
             "#d8576b"
            ],
            [
             0.6666666666666666,
             "#ed7953"
            ],
            [
             0.7777777777777778,
             "#fb9f3a"
            ],
            [
             0.8888888888888888,
             "#fdca26"
            ],
            [
             1,
             "#f0f921"
            ]
           ]
          },
          "colorway": [
           "#636efa",
           "#EF553B",
           "#00cc96",
           "#ab63fa",
           "#FFA15A",
           "#19d3f3",
           "#FF6692",
           "#B6E880",
           "#FF97FF",
           "#FECB52"
          ],
          "font": {
           "color": "#2a3f5f"
          },
          "geo": {
           "bgcolor": "white",
           "lakecolor": "white",
           "landcolor": "#E5ECF6",
           "showlakes": true,
           "showland": true,
           "subunitcolor": "white"
          },
          "hoverlabel": {
           "align": "left"
          },
          "hovermode": "closest",
          "mapbox": {
           "style": "light"
          },
          "paper_bgcolor": "white",
          "plot_bgcolor": "#E5ECF6",
          "polar": {
           "angularaxis": {
            "gridcolor": "white",
            "linecolor": "white",
            "ticks": ""
           },
           "bgcolor": "#E5ECF6",
           "radialaxis": {
            "gridcolor": "white",
            "linecolor": "white",
            "ticks": ""
           }
          },
          "scene": {
           "xaxis": {
            "backgroundcolor": "#E5ECF6",
            "gridcolor": "white",
            "gridwidth": 2,
            "linecolor": "white",
            "showbackground": true,
            "ticks": "",
            "zerolinecolor": "white"
           },
           "yaxis": {
            "backgroundcolor": "#E5ECF6",
            "gridcolor": "white",
            "gridwidth": 2,
            "linecolor": "white",
            "showbackground": true,
            "ticks": "",
            "zerolinecolor": "white"
           },
           "zaxis": {
            "backgroundcolor": "#E5ECF6",
            "gridcolor": "white",
            "gridwidth": 2,
            "linecolor": "white",
            "showbackground": true,
            "ticks": "",
            "zerolinecolor": "white"
           }
          },
          "shapedefaults": {
           "line": {
            "color": "#2a3f5f"
           }
          },
          "ternary": {
           "aaxis": {
            "gridcolor": "white",
            "linecolor": "white",
            "ticks": ""
           },
           "baxis": {
            "gridcolor": "white",
            "linecolor": "white",
            "ticks": ""
           },
           "bgcolor": "#E5ECF6",
           "caxis": {
            "gridcolor": "white",
            "linecolor": "white",
            "ticks": ""
           }
          },
          "title": {
           "x": 0.05
          },
          "xaxis": {
           "automargin": true,
           "gridcolor": "white",
           "linecolor": "white",
           "ticks": "",
           "title": {
            "standoff": 15
           },
           "zerolinecolor": "white",
           "zerolinewidth": 2
          },
          "yaxis": {
           "automargin": true,
           "gridcolor": "white",
           "linecolor": "white",
           "ticks": "",
           "title": {
            "standoff": 15
           },
           "zerolinecolor": "white",
           "zerolinewidth": 2
          }
         }
        },
        "width": 1000,
        "xaxis": {
         "fixedrange": true,
         "gridcolor": "#1f292f",
         "rangeslider": {
          "visible": false
         },
         "showgrid": true
        },
        "yaxis": {
         "gridcolor": "#1f292f",
         "showgrid": true
        }
       }
      }
     },
     "metadata": {},
     "output_type": "display_data"
    }
   ],
   "source": [
    "fig = go.Figure()\n",
    "fig.add_trace(go.Candlestick(\n",
    "    x=df_plot.time, open=df_plot.mid_o, high=df_plot.mid_h, low=df_plot.mid_l, close=df_plot.mid_c,\n",
    "    line=dict(width=1), opacity=1,\n",
    "    increasing_fillcolor='#24A06B',\n",
    "    decreasing_fillcolor=\"#CC2E3C\",\n",
    "    increasing_line_color='#2EC886',  \n",
    "    decreasing_line_color='#FF3A4C'\n",
    "))\n",
    "for ma in ma_list:  \n",
    "    col = f\"MA_{ma}\"\n",
    "    fig.add_trace(go.Scatter(x=df_plot.time, \n",
    "        y=df_plot[col],\n",
    "        line=dict(width=2),\n",
    "        line_shape='spline',\n",
    "        name=col\n",
    "        ))\n",
    "fig.update_layout(width=1000,height=400,\n",
    "    margin=dict(l=10,r=10,b=10,t=10),\n",
    "    font=dict(size=10,color=\"#e1e1e1\"),\n",
    "    paper_bgcolor=\"#1e1e1e\",\n",
    "    plot_bgcolor=\"#1e1e1e\")\n",
    "fig.update_xaxes(\n",
    "    gridcolor=\"#1f292f\",\n",
    "    showgrid=True,fixedrange=True,rangeslider=dict(visible=False)\n",
    ")\n",
    "fig.update_yaxes(\n",
    "    gridcolor=\"#1f292f\",\n",
    "    showgrid=True\n",
    ")\n",
    "fig.show()"
   ]
  },
  {
   "cell_type": "code",
   "execution_count": null,
   "metadata": {},
   "outputs": [],
   "source": []
  }
 ],
 "metadata": {
  "kernelspec": {
   "display_name": "Python 3",
   "language": "python",
   "name": "python3"
  },
  "language_info": {
   "codemirror_mode": {
    "name": "ipython",
    "version": 3
   },
   "file_extension": ".py",
   "mimetype": "text/x-python",
   "name": "python",
   "nbconvert_exporter": "python",
   "pygments_lexer": "ipython3",
   "version": "3.10.4"
  },
  "orig_nbformat": 2
 },
 "nbformat": 4,
 "nbformat_minor": 2
}
