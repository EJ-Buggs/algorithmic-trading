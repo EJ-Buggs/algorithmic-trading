{
 "cells": [
  {
   "cell_type": "code",
   "execution_count": 49,
   "metadata": {},
   "outputs": [],
   "source": [
    "import pandas as pd\n",
    "import utils\n",
    "import plotly.graph_objects as go"
   ]
  },
  {
   "cell_type": "code",
   "execution_count": 50,
   "metadata": {},
   "outputs": [],
   "source": [
    "pair = \"EUR_USD\"\n",
    "granularity = \"H1\""
   ]
  },
  {
   "cell_type": "code",
   "execution_count": 52,
   "metadata": {},
   "outputs": [],
   "source": [
    "df = pd.read_pickle(utils.get_his_data_filename(pair, granularity))"
   ]
  },
  {
   "cell_type": "code",
   "execution_count": 53,
   "metadata": {},
   "outputs": [],
   "source": [
    "non_cols = ['time', 'volume']"
   ]
  },
  {
   "cell_type": "code",
   "execution_count": 54,
   "metadata": {},
   "outputs": [
    {
     "data": {
      "text/plain": [
       "['time', 'volume']"
      ]
     },
     "execution_count": 54,
     "metadata": {},
     "output_type": "execute_result"
    }
   ],
   "source": [
    "non_cols"
   ]
  },
  {
   "cell_type": "code",
   "execution_count": 55,
   "metadata": {},
   "outputs": [],
   "source": [
    "mod_cols = [x for x in df.columns if x not in non_cols]"
   ]
  },
  {
   "cell_type": "code",
   "execution_count": 56,
   "metadata": {},
   "outputs": [],
   "source": [
    "df[mod_cols] = df[mod_cols].apply(pd.to_numeric)"
   ]
  },
  {
   "cell_type": "code",
   "execution_count": 57,
   "metadata": {},
   "outputs": [],
   "source": [
    "df_plot = df.iloc[-100:].copy()"
   ]
  },
  {
   "cell_type": "code",
   "execution_count": 58,
   "metadata": {},
   "outputs": [
    {
     "data": {
      "text/plain": [
       "(100, 14)"
      ]
     },
     "execution_count": 58,
     "metadata": {},
     "output_type": "execute_result"
    }
   ],
   "source": [
    "df_plot.shape"
   ]
  },
  {
   "cell_type": "code",
   "execution_count": 60,
   "metadata": {},
   "outputs": [
    {
     "data": {
      "application/vnd.plotly.v1+json": {
       "config": {
        "plotlyServerURL": "https://plot.ly"
       },
       "data": [
        {
         "close": [
          1.08166,
          1.08277,
          1.08342,
          1.08363,
          1.08356,
          1.08373,
          1.08436,
          1.08394,
          1.08366,
          1.08404,
          1.08442,
          1.08476,
          1.08342,
          1.08074,
          1.08341,
          1.0832,
          1.08324,
          1.08188,
          1.08143,
          1.08286,
          1.08098,
          1.08058,
          1.0786,
          1.0792,
          1.0785,
          1.0784,
          1.0795,
          1.07983,
          1.07976,
          1.07934,
          1.07954,
          1.07922,
          1.07922,
          1.0797,
          1.07945,
          1.08012,
          1.0788,
          1.07902,
          1.07868,
          1.07911,
          1.07911,
          1.078,
          1.07774,
          1.0798,
          1.07949,
          1.07903,
          1.07892,
          1.07814,
          1.07784,
          1.07684,
          1.07622,
          1.07644,
          1.07681,
          1.07664,
          1.07687,
          1.07672,
          1.0765,
          1.07596,
          1.07604,
          1.07616,
          1.07641,
          1.07809,
          1.07803,
          1.07798,
          1.07712,
          1.07708,
          1.07694,
          1.07904,
          1.07702,
          1.0784,
          1.07939,
          1.08138,
          1.08055,
          1.07982,
          1.07956,
          1.0793,
          1.07932,
          1.07898,
          1.07962,
          1.07882,
          1.07896,
          1.0792,
          1.0783,
          1.0784,
          1.07795,
          1.07792,
          1.07895,
          1.0777,
          1.07841,
          1.07828,
          1.07774,
          1.0747,
          1.07464,
          1.07685,
          1.07449,
          1.07561,
          1.07572,
          1.07587,
          1.07636,
          1.0761
         ],
         "decreasing": {
          "fillcolor": "#CC2E3C",
          "line": {
           "color": "#FF3A4C"
          }
         },
         "high": [
          1.08268,
          1.08292,
          1.08355,
          1.08372,
          1.08361,
          1.08378,
          1.08464,
          1.08446,
          1.0843,
          1.08432,
          1.08447,
          1.08476,
          1.08475,
          1.08339,
          1.08345,
          1.08428,
          1.08398,
          1.08366,
          1.08217,
          1.08339,
          1.08304,
          1.0839,
          1.08133,
          1.07976,
          1.07932,
          1.07866,
          1.07979,
          1.0799,
          1.0799,
          1.0798,
          1.07966,
          1.07986,
          1.07937,
          1.07988,
          1.07999,
          1.08019,
          1.08011,
          1.07934,
          1.07904,
          1.07979,
          1.0796,
          1.07909,
          1.07808,
          1.07999,
          1.08048,
          1.08006,
          1.08004,
          1.0792,
          1.07844,
          1.0779,
          1.07697,
          1.07663,
          1.07692,
          1.07688,
          1.07724,
          1.07712,
          1.0771,
          1.07656,
          1.07626,
          1.07631,
          1.07668,
          1.07814,
          1.07829,
          1.07848,
          1.07834,
          1.07774,
          1.07743,
          1.0798,
          1.07919,
          1.07937,
          1.07958,
          1.08178,
          1.08138,
          1.08062,
          1.08039,
          1.07963,
          1.07987,
          1.07968,
          1.07979,
          1.08008,
          1.079,
          1.07957,
          1.07922,
          1.07894,
          1.07874,
          1.07824,
          1.07914,
          1.07895,
          1.079,
          1.07874,
          1.0786,
          1.07798,
          1.07532,
          1.07858,
          1.07706,
          1.07578,
          1.07625,
          1.07618,
          1.07665,
          1.07642
         ],
         "increasing": {
          "fillcolor": "#24A06B",
          "line": {
           "color": "#2EC886"
          }
         },
         "line": {
          "width": 1
         },
         "low": [
          1.0815,
          1.0816,
          1.08278,
          1.08332,
          1.08305,
          1.08344,
          1.08362,
          1.08346,
          1.08348,
          1.08362,
          1.08394,
          1.08398,
          1.08316,
          1.08041,
          1.0806,
          1.08305,
          1.08296,
          1.08152,
          1.08125,
          1.08138,
          1.08014,
          1.07988,
          1.0782,
          1.07857,
          1.0778,
          1.07811,
          1.0782,
          1.07936,
          1.07932,
          1.07908,
          1.07892,
          1.07879,
          1.07881,
          1.07916,
          1.07936,
          1.07917,
          1.07879,
          1.0778,
          1.0775,
          1.0786,
          1.07874,
          1.0778,
          1.07724,
          1.07772,
          1.07888,
          1.07854,
          1.07837,
          1.07809,
          1.07712,
          1.07672,
          1.07587,
          1.07621,
          1.07643,
          1.07644,
          1.07657,
          1.07642,
          1.07621,
          1.07594,
          1.07578,
          1.0757,
          1.07587,
          1.07551,
          1.0772,
          1.07719,
          1.0764,
          1.07636,
          1.07594,
          1.07614,
          1.07701,
          1.07672,
          1.07838,
          1.07891,
          1.08027,
          1.07982,
          1.07953,
          1.07906,
          1.07918,
          1.07896,
          1.07885,
          1.07854,
          1.07837,
          1.07879,
          1.07828,
          1.07824,
          1.0779,
          1.0773,
          1.0777,
          1.07723,
          1.07754,
          1.0778,
          1.0775,
          1.07237,
          1.07304,
          1.07464,
          1.07438,
          1.07402,
          1.0753,
          1.07566,
          1.0757,
          1.07564
         ],
         "opacity": 1,
         "open": [
          1.08258,
          1.08168,
          1.08278,
          1.08342,
          1.08354,
          1.08354,
          1.08374,
          1.08436,
          1.08394,
          1.08365,
          1.08402,
          1.08441,
          1.08472,
          1.08338,
          1.08072,
          1.0834,
          1.08318,
          1.08327,
          1.08188,
          1.08142,
          1.08285,
          1.08098,
          1.08058,
          1.07865,
          1.07921,
          1.07849,
          1.07838,
          1.07952,
          1.0794,
          1.07978,
          1.07936,
          1.07956,
          1.07921,
          1.07923,
          1.07966,
          1.07943,
          1.0801,
          1.07882,
          1.07898,
          1.07869,
          1.07912,
          1.07909,
          1.078,
          1.07772,
          1.0798,
          1.07948,
          1.07901,
          1.07891,
          1.07813,
          1.07783,
          1.07685,
          1.07623,
          1.07686,
          1.07687,
          1.07666,
          1.07688,
          1.07673,
          1.07651,
          1.07595,
          1.07604,
          1.07618,
          1.07636,
          1.07811,
          1.07804,
          1.07797,
          1.07716,
          1.07707,
          1.07692,
          1.07905,
          1.07701,
          1.07841,
          1.07938,
          1.08135,
          1.08053,
          1.07984,
          1.07954,
          1.07944,
          1.07937,
          1.07901,
          1.07962,
          1.07882,
          1.07894,
          1.07919,
          1.07829,
          1.0784,
          1.07797,
          1.07794,
          1.07894,
          1.07769,
          1.0784,
          1.07831,
          1.07777,
          1.07471,
          1.07464,
          1.07684,
          1.07448,
          1.07562,
          1.07574,
          1.07588,
          1.07638
         ],
         "type": "candlestick",
         "x": [
          "2023-12-04T18:00:00.000000000Z",
          "2023-12-04T19:00:00.000000000Z",
          "2023-12-04T20:00:00.000000000Z",
          "2023-12-04T21:00:00.000000000Z",
          "2023-12-04T22:00:00.000000000Z",
          "2023-12-04T23:00:00.000000000Z",
          "2023-12-05T00:00:00.000000000Z",
          "2023-12-05T01:00:00.000000000Z",
          "2023-12-05T02:00:00.000000000Z",
          "2023-12-05T03:00:00.000000000Z",
          "2023-12-05T04:00:00.000000000Z",
          "2023-12-05T05:00:00.000000000Z",
          "2023-12-05T06:00:00.000000000Z",
          "2023-12-05T07:00:00.000000000Z",
          "2023-12-05T08:00:00.000000000Z",
          "2023-12-05T09:00:00.000000000Z",
          "2023-12-05T10:00:00.000000000Z",
          "2023-12-05T11:00:00.000000000Z",
          "2023-12-05T12:00:00.000000000Z",
          "2023-12-05T13:00:00.000000000Z",
          "2023-12-05T14:00:00.000000000Z",
          "2023-12-05T15:00:00.000000000Z",
          "2023-12-05T16:00:00.000000000Z",
          "2023-12-05T17:00:00.000000000Z",
          "2023-12-05T18:00:00.000000000Z",
          "2023-12-05T19:00:00.000000000Z",
          "2023-12-05T20:00:00.000000000Z",
          "2023-12-05T21:00:00.000000000Z",
          "2023-12-05T22:00:00.000000000Z",
          "2023-12-05T23:00:00.000000000Z",
          "2023-12-06T00:00:00.000000000Z",
          "2023-12-06T01:00:00.000000000Z",
          "2023-12-06T02:00:00.000000000Z",
          "2023-12-06T03:00:00.000000000Z",
          "2023-12-06T04:00:00.000000000Z",
          "2023-12-06T05:00:00.000000000Z",
          "2023-12-06T06:00:00.000000000Z",
          "2023-12-06T07:00:00.000000000Z",
          "2023-12-06T08:00:00.000000000Z",
          "2023-12-06T09:00:00.000000000Z",
          "2023-12-06T10:00:00.000000000Z",
          "2023-12-06T11:00:00.000000000Z",
          "2023-12-06T12:00:00.000000000Z",
          "2023-12-06T13:00:00.000000000Z",
          "2023-12-06T14:00:00.000000000Z",
          "2023-12-06T15:00:00.000000000Z",
          "2023-12-06T16:00:00.000000000Z",
          "2023-12-06T17:00:00.000000000Z",
          "2023-12-06T18:00:00.000000000Z",
          "2023-12-06T19:00:00.000000000Z",
          "2023-12-06T20:00:00.000000000Z",
          "2023-12-06T21:00:00.000000000Z",
          "2023-12-06T22:00:00.000000000Z",
          "2023-12-06T23:00:00.000000000Z",
          "2023-12-07T00:00:00.000000000Z",
          "2023-12-07T01:00:00.000000000Z",
          "2023-12-07T02:00:00.000000000Z",
          "2023-12-07T03:00:00.000000000Z",
          "2023-12-07T04:00:00.000000000Z",
          "2023-12-07T05:00:00.000000000Z",
          "2023-12-07T06:00:00.000000000Z",
          "2023-12-07T07:00:00.000000000Z",
          "2023-12-07T08:00:00.000000000Z",
          "2023-12-07T09:00:00.000000000Z",
          "2023-12-07T10:00:00.000000000Z",
          "2023-12-07T11:00:00.000000000Z",
          "2023-12-07T12:00:00.000000000Z",
          "2023-12-07T13:00:00.000000000Z",
          "2023-12-07T14:00:00.000000000Z",
          "2023-12-07T15:00:00.000000000Z",
          "2023-12-07T16:00:00.000000000Z",
          "2023-12-07T17:00:00.000000000Z",
          "2023-12-07T18:00:00.000000000Z",
          "2023-12-07T19:00:00.000000000Z",
          "2023-12-07T20:00:00.000000000Z",
          "2023-12-07T21:00:00.000000000Z",
          "2023-12-07T22:00:00.000000000Z",
          "2023-12-07T23:00:00.000000000Z",
          "2023-12-08T00:00:00.000000000Z",
          "2023-12-08T01:00:00.000000000Z",
          "2023-12-08T02:00:00.000000000Z",
          "2023-12-08T03:00:00.000000000Z",
          "2023-12-08T04:00:00.000000000Z",
          "2023-12-08T05:00:00.000000000Z",
          "2023-12-08T06:00:00.000000000Z",
          "2023-12-08T07:00:00.000000000Z",
          "2023-12-08T08:00:00.000000000Z",
          "2023-12-08T09:00:00.000000000Z",
          "2023-12-08T10:00:00.000000000Z",
          "2023-12-08T11:00:00.000000000Z",
          "2023-12-08T12:00:00.000000000Z",
          "2023-12-08T13:00:00.000000000Z",
          "2023-12-08T14:00:00.000000000Z",
          "2023-12-08T15:00:00.000000000Z",
          "2023-12-08T16:00:00.000000000Z",
          "2023-12-08T17:00:00.000000000Z",
          "2023-12-08T18:00:00.000000000Z",
          "2023-12-08T19:00:00.000000000Z",
          "2023-12-08T20:00:00.000000000Z",
          "2023-12-08T21:00:00.000000000Z"
         ]
        }
       ],
       "layout": {
        "font": {
         "color": "#e1e1e1",
         "size": 10
        },
        "height": 300,
        "margin": {
         "b": 10,
         "l": 10,
         "r": 10,
         "t": 10
        },
        "paper_bgcolor": "#1e1e1e",
        "plot_bgcolor": "#1e1e1e",
        "template": {
         "data": {
          "bar": [
           {
            "error_x": {
             "color": "#2a3f5f"
            },
            "error_y": {
             "color": "#2a3f5f"
            },
            "marker": {
             "line": {
              "color": "#E5ECF6",
              "width": 0.5
             },
             "pattern": {
              "fillmode": "overlay",
              "size": 10,
              "solidity": 0.2
             }
            },
            "type": "bar"
           }
          ],
          "barpolar": [
           {
            "marker": {
             "line": {
              "color": "#E5ECF6",
              "width": 0.5
             },
             "pattern": {
              "fillmode": "overlay",
              "size": 10,
              "solidity": 0.2
             }
            },
            "type": "barpolar"
           }
          ],
          "carpet": [
           {
            "aaxis": {
             "endlinecolor": "#2a3f5f",
             "gridcolor": "white",
             "linecolor": "white",
             "minorgridcolor": "white",
             "startlinecolor": "#2a3f5f"
            },
            "baxis": {
             "endlinecolor": "#2a3f5f",
             "gridcolor": "white",
             "linecolor": "white",
             "minorgridcolor": "white",
             "startlinecolor": "#2a3f5f"
            },
            "type": "carpet"
           }
          ],
          "choropleth": [
           {
            "colorbar": {
             "outlinewidth": 0,
             "ticks": ""
            },
            "type": "choropleth"
           }
          ],
          "contour": [
           {
            "colorbar": {
             "outlinewidth": 0,
             "ticks": ""
            },
            "colorscale": [
             [
              0,
              "#0d0887"
             ],
             [
              0.1111111111111111,
              "#46039f"
             ],
             [
              0.2222222222222222,
              "#7201a8"
             ],
             [
              0.3333333333333333,
              "#9c179e"
             ],
             [
              0.4444444444444444,
              "#bd3786"
             ],
             [
              0.5555555555555556,
              "#d8576b"
             ],
             [
              0.6666666666666666,
              "#ed7953"
             ],
             [
              0.7777777777777778,
              "#fb9f3a"
             ],
             [
              0.8888888888888888,
              "#fdca26"
             ],
             [
              1,
              "#f0f921"
             ]
            ],
            "type": "contour"
           }
          ],
          "contourcarpet": [
           {
            "colorbar": {
             "outlinewidth": 0,
             "ticks": ""
            },
            "type": "contourcarpet"
           }
          ],
          "heatmap": [
           {
            "colorbar": {
             "outlinewidth": 0,
             "ticks": ""
            },
            "colorscale": [
             [
              0,
              "#0d0887"
             ],
             [
              0.1111111111111111,
              "#46039f"
             ],
             [
              0.2222222222222222,
              "#7201a8"
             ],
             [
              0.3333333333333333,
              "#9c179e"
             ],
             [
              0.4444444444444444,
              "#bd3786"
             ],
             [
              0.5555555555555556,
              "#d8576b"
             ],
             [
              0.6666666666666666,
              "#ed7953"
             ],
             [
              0.7777777777777778,
              "#fb9f3a"
             ],
             [
              0.8888888888888888,
              "#fdca26"
             ],
             [
              1,
              "#f0f921"
             ]
            ],
            "type": "heatmap"
           }
          ],
          "heatmapgl": [
           {
            "colorbar": {
             "outlinewidth": 0,
             "ticks": ""
            },
            "colorscale": [
             [
              0,
              "#0d0887"
             ],
             [
              0.1111111111111111,
              "#46039f"
             ],
             [
              0.2222222222222222,
              "#7201a8"
             ],
             [
              0.3333333333333333,
              "#9c179e"
             ],
             [
              0.4444444444444444,
              "#bd3786"
             ],
             [
              0.5555555555555556,
              "#d8576b"
             ],
             [
              0.6666666666666666,
              "#ed7953"
             ],
             [
              0.7777777777777778,
              "#fb9f3a"
             ],
             [
              0.8888888888888888,
              "#fdca26"
             ],
             [
              1,
              "#f0f921"
             ]
            ],
            "type": "heatmapgl"
           }
          ],
          "histogram": [
           {
            "marker": {
             "pattern": {
              "fillmode": "overlay",
              "size": 10,
              "solidity": 0.2
             }
            },
            "type": "histogram"
           }
          ],
          "histogram2d": [
           {
            "colorbar": {
             "outlinewidth": 0,
             "ticks": ""
            },
            "colorscale": [
             [
              0,
              "#0d0887"
             ],
             [
              0.1111111111111111,
              "#46039f"
             ],
             [
              0.2222222222222222,
              "#7201a8"
             ],
             [
              0.3333333333333333,
              "#9c179e"
             ],
             [
              0.4444444444444444,
              "#bd3786"
             ],
             [
              0.5555555555555556,
              "#d8576b"
             ],
             [
              0.6666666666666666,
              "#ed7953"
             ],
             [
              0.7777777777777778,
              "#fb9f3a"
             ],
             [
              0.8888888888888888,
              "#fdca26"
             ],
             [
              1,
              "#f0f921"
             ]
            ],
            "type": "histogram2d"
           }
          ],
          "histogram2dcontour": [
           {
            "colorbar": {
             "outlinewidth": 0,
             "ticks": ""
            },
            "colorscale": [
             [
              0,
              "#0d0887"
             ],
             [
              0.1111111111111111,
              "#46039f"
             ],
             [
              0.2222222222222222,
              "#7201a8"
             ],
             [
              0.3333333333333333,
              "#9c179e"
             ],
             [
              0.4444444444444444,
              "#bd3786"
             ],
             [
              0.5555555555555556,
              "#d8576b"
             ],
             [
              0.6666666666666666,
              "#ed7953"
             ],
             [
              0.7777777777777778,
              "#fb9f3a"
             ],
             [
              0.8888888888888888,
              "#fdca26"
             ],
             [
              1,
              "#f0f921"
             ]
            ],
            "type": "histogram2dcontour"
           }
          ],
          "mesh3d": [
           {
            "colorbar": {
             "outlinewidth": 0,
             "ticks": ""
            },
            "type": "mesh3d"
           }
          ],
          "parcoords": [
           {
            "line": {
             "colorbar": {
              "outlinewidth": 0,
              "ticks": ""
             }
            },
            "type": "parcoords"
           }
          ],
          "pie": [
           {
            "automargin": true,
            "type": "pie"
           }
          ],
          "scatter": [
           {
            "fillpattern": {
             "fillmode": "overlay",
             "size": 10,
             "solidity": 0.2
            },
            "type": "scatter"
           }
          ],
          "scatter3d": [
           {
            "line": {
             "colorbar": {
              "outlinewidth": 0,
              "ticks": ""
             }
            },
            "marker": {
             "colorbar": {
              "outlinewidth": 0,
              "ticks": ""
             }
            },
            "type": "scatter3d"
           }
          ],
          "scattercarpet": [
           {
            "marker": {
             "colorbar": {
              "outlinewidth": 0,
              "ticks": ""
             }
            },
            "type": "scattercarpet"
           }
          ],
          "scattergeo": [
           {
            "marker": {
             "colorbar": {
              "outlinewidth": 0,
              "ticks": ""
             }
            },
            "type": "scattergeo"
           }
          ],
          "scattergl": [
           {
            "marker": {
             "colorbar": {
              "outlinewidth": 0,
              "ticks": ""
             }
            },
            "type": "scattergl"
           }
          ],
          "scattermapbox": [
           {
            "marker": {
             "colorbar": {
              "outlinewidth": 0,
              "ticks": ""
             }
            },
            "type": "scattermapbox"
           }
          ],
          "scatterpolar": [
           {
            "marker": {
             "colorbar": {
              "outlinewidth": 0,
              "ticks": ""
             }
            },
            "type": "scatterpolar"
           }
          ],
          "scatterpolargl": [
           {
            "marker": {
             "colorbar": {
              "outlinewidth": 0,
              "ticks": ""
             }
            },
            "type": "scatterpolargl"
           }
          ],
          "scatterternary": [
           {
            "marker": {
             "colorbar": {
              "outlinewidth": 0,
              "ticks": ""
             }
            },
            "type": "scatterternary"
           }
          ],
          "surface": [
           {
            "colorbar": {
             "outlinewidth": 0,
             "ticks": ""
            },
            "colorscale": [
             [
              0,
              "#0d0887"
             ],
             [
              0.1111111111111111,
              "#46039f"
             ],
             [
              0.2222222222222222,
              "#7201a8"
             ],
             [
              0.3333333333333333,
              "#9c179e"
             ],
             [
              0.4444444444444444,
              "#bd3786"
             ],
             [
              0.5555555555555556,
              "#d8576b"
             ],
             [
              0.6666666666666666,
              "#ed7953"
             ],
             [
              0.7777777777777778,
              "#fb9f3a"
             ],
             [
              0.8888888888888888,
              "#fdca26"
             ],
             [
              1,
              "#f0f921"
             ]
            ],
            "type": "surface"
           }
          ],
          "table": [
           {
            "cells": {
             "fill": {
              "color": "#EBF0F8"
             },
             "line": {
              "color": "white"
             }
            },
            "header": {
             "fill": {
              "color": "#C8D4E3"
             },
             "line": {
              "color": "white"
             }
            },
            "type": "table"
           }
          ]
         },
         "layout": {
          "annotationdefaults": {
           "arrowcolor": "#2a3f5f",
           "arrowhead": 0,
           "arrowwidth": 1
          },
          "autotypenumbers": "strict",
          "coloraxis": {
           "colorbar": {
            "outlinewidth": 0,
            "ticks": ""
           }
          },
          "colorscale": {
           "diverging": [
            [
             0,
             "#8e0152"
            ],
            [
             0.1,
             "#c51b7d"
            ],
            [
             0.2,
             "#de77ae"
            ],
            [
             0.3,
             "#f1b6da"
            ],
            [
             0.4,
             "#fde0ef"
            ],
            [
             0.5,
             "#f7f7f7"
            ],
            [
             0.6,
             "#e6f5d0"
            ],
            [
             0.7,
             "#b8e186"
            ],
            [
             0.8,
             "#7fbc41"
            ],
            [
             0.9,
             "#4d9221"
            ],
            [
             1,
             "#276419"
            ]
           ],
           "sequential": [
            [
             0,
             "#0d0887"
            ],
            [
             0.1111111111111111,
             "#46039f"
            ],
            [
             0.2222222222222222,
             "#7201a8"
            ],
            [
             0.3333333333333333,
             "#9c179e"
            ],
            [
             0.4444444444444444,
             "#bd3786"
            ],
            [
             0.5555555555555556,
             "#d8576b"
            ],
            [
             0.6666666666666666,
             "#ed7953"
            ],
            [
             0.7777777777777778,
             "#fb9f3a"
            ],
            [
             0.8888888888888888,
             "#fdca26"
            ],
            [
             1,
             "#f0f921"
            ]
           ],
           "sequentialminus": [
            [
             0,
             "#0d0887"
            ],
            [
             0.1111111111111111,
             "#46039f"
            ],
            [
             0.2222222222222222,
             "#7201a8"
            ],
            [
             0.3333333333333333,
             "#9c179e"
            ],
            [
             0.4444444444444444,
             "#bd3786"
            ],
            [
             0.5555555555555556,
             "#d8576b"
            ],
            [
             0.6666666666666666,
             "#ed7953"
            ],
            [
             0.7777777777777778,
             "#fb9f3a"
            ],
            [
             0.8888888888888888,
             "#fdca26"
            ],
            [
             1,
             "#f0f921"
            ]
           ]
          },
          "colorway": [
           "#636efa",
           "#EF553B",
           "#00cc96",
           "#ab63fa",
           "#FFA15A",
           "#19d3f3",
           "#FF6692",
           "#B6E880",
           "#FF97FF",
           "#FECB52"
          ],
          "font": {
           "color": "#2a3f5f"
          },
          "geo": {
           "bgcolor": "white",
           "lakecolor": "white",
           "landcolor": "#E5ECF6",
           "showlakes": true,
           "showland": true,
           "subunitcolor": "white"
          },
          "hoverlabel": {
           "align": "left"
          },
          "hovermode": "closest",
          "mapbox": {
           "style": "light"
          },
          "paper_bgcolor": "white",
          "plot_bgcolor": "#E5ECF6",
          "polar": {
           "angularaxis": {
            "gridcolor": "white",
            "linecolor": "white",
            "ticks": ""
           },
           "bgcolor": "#E5ECF6",
           "radialaxis": {
            "gridcolor": "white",
            "linecolor": "white",
            "ticks": ""
           }
          },
          "scene": {
           "xaxis": {
            "backgroundcolor": "#E5ECF6",
            "gridcolor": "white",
            "gridwidth": 2,
            "linecolor": "white",
            "showbackground": true,
            "ticks": "",
            "zerolinecolor": "white"
           },
           "yaxis": {
            "backgroundcolor": "#E5ECF6",
            "gridcolor": "white",
            "gridwidth": 2,
            "linecolor": "white",
            "showbackground": true,
            "ticks": "",
            "zerolinecolor": "white"
           },
           "zaxis": {
            "backgroundcolor": "#E5ECF6",
            "gridcolor": "white",
            "gridwidth": 2,
            "linecolor": "white",
            "showbackground": true,
            "ticks": "",
            "zerolinecolor": "white"
           }
          },
          "shapedefaults": {
           "line": {
            "color": "#2a3f5f"
           }
          },
          "ternary": {
           "aaxis": {
            "gridcolor": "white",
            "linecolor": "white",
            "ticks": ""
           },
           "baxis": {
            "gridcolor": "white",
            "linecolor": "white",
            "ticks": ""
           },
           "bgcolor": "#E5ECF6",
           "caxis": {
            "gridcolor": "white",
            "linecolor": "white",
            "ticks": ""
           }
          },
          "title": {
           "x": 0.05
          },
          "xaxis": {
           "automargin": true,
           "gridcolor": "white",
           "linecolor": "white",
           "ticks": "",
           "title": {
            "standoff": 15
           },
           "zerolinecolor": "white",
           "zerolinewidth": 2
          },
          "yaxis": {
           "automargin": true,
           "gridcolor": "white",
           "linecolor": "white",
           "ticks": "",
           "title": {
            "standoff": 15
           },
           "zerolinecolor": "white",
           "zerolinewidth": 2
          }
         }
        },
        "width": 1000,
        "xaxis": {
         "fixedrange": true,
         "gridcolor": "#1f292f",
         "rangeslider": {
          "visible": false
         },
         "showgrid": true
        },
        "yaxis": {
         "gridcolor": "#1f292f",
         "showgrid": true
        }
       }
      }
     },
     "metadata": {},
     "output_type": "display_data"
    }
   ],
   "source": [
    "fig = go.Figure()\n",
    "fig.add_trace(go.Candlestick(\n",
    "  x=df_plot.time, open=df_plot.mid_o, high=df_plot.mid_h, low=df_plot.mid_l, close=df_plot.mid_c,\n",
    "  line=dict(width=1), opacity=1,\n",
    "  increasing_fillcolor=\"#24A06B\",\n",
    "  decreasing_fillcolor=\"#CC2E3C\",\n",
    "  increasing_line_color=\"#2EC886\",\n",
    "  decreasing_line_color=\"#FF3A4C\"\n",
    "))\n",
    "fig.update_layout(width=1000,height=300,\n",
    "    margin=dict(l=10, r=10, b=10, t=10),\n",
    "    font=dict(size=10, color='#e1e1e1'),\n",
    "    paper_bgcolor=\"#1e1e1e\",\n",
    "    plot_bgcolor=\"#1e1e1e\")\n",
    "fig.update_xaxes(\n",
    "  gridcolor='#1f292f',\n",
    "  showgrid=True,fixedrange=True,rangeslider=dict(visible=False)\n",
    ")\n",
    "fig.update_yaxes(\n",
    "  gridcolor=\"#1f292f\",\n",
    "  showgrid=True\n",
    ")\n",
    "fig.show()"
   ]
  },
  {
   "cell_type": "code",
   "execution_count": null,
   "metadata": {},
   "outputs": [],
   "source": []
  }
 ],
 "metadata": {
  "kernelspec": {
   "display_name": "venv",
   "language": "python",
   "name": "python3"
  },
  "language_info": {
   "codemirror_mode": {
    "name": "ipython",
    "version": 3
   },
   "file_extension": ".py",
   "mimetype": "text/x-python",
   "name": "python",
   "nbconvert_exporter": "python",
   "pygments_lexer": "ipython3",
   "version": "3.10.4"
  }
 },
 "nbformat": 4,
 "nbformat_minor": 2
}
