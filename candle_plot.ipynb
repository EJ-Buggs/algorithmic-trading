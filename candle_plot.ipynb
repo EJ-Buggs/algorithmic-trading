{
 "cells": [
  {
   "cell_type": "code",
   "execution_count": 1,
   "metadata": {},
   "outputs": [],
   "source": [
    "import pandas as pd\n",
    "import utils"
   ]
  },
  {
   "cell_type": "code",
   "execution_count": 2,
   "metadata": {},
   "outputs": [],
   "source": [
    "pair = \"EUR_USD\"\n",
    "granularity = \"H1\""
   ]
  },
  {
   "cell_type": "code",
   "execution_count": 10,
   "metadata": {},
   "outputs": [],
   "source": [
    "pair = \"EUR_USD\"\n",
    "granularity = \"H1\"\n"
   ]
  },
  {
   "cell_type": "code",
   "execution_count": 3,
   "metadata": {},
   "outputs": [],
   "source": [
    "df = pd.read_pickle(utils.get_his_data_filename(pair, granularity))"
   ]
  },
  {
   "cell_type": "code",
   "execution_count": 7,
   "metadata": {},
   "outputs": [],
   "source": [
    "non_cols = ['time', 'volume']"
   ]
  },
  {
   "cell_type": "code",
   "execution_count": 8,
   "metadata": {},
   "outputs": [
    {
     "data": {
      "text/plain": [
       "['time', 'volume']"
      ]
     },
     "execution_count": 8,
     "metadata": {},
     "output_type": "execute_result"
    }
   ],
   "source": [
    "non_cols"
   ]
  },
  {
   "cell_type": "code",
   "execution_count": 11,
   "metadata": {},
   "outputs": [],
   "source": [
    "mod_cols = [x for x in df.columns if x not in non_cols]"
   ]
  },
  {
   "cell_type": "code",
   "execution_count": 13,
   "metadata": {},
   "outputs": [],
   "source": [
    "df[mod_cols] = df[mod_cols].apply(pd.to_numeric)"
   ]
  },
  {
   "cell_type": "code",
   "execution_count": 15,
   "metadata": {},
   "outputs": [
    {
     "data": {
      "text/html": [
       "<div>\n",
       "<style scoped>\n",
       "    .dataframe tbody tr th:only-of-type {\n",
       "        vertical-align: middle;\n",
       "    }\n",
       "\n",
       "    .dataframe tbody tr th {\n",
       "        vertical-align: top;\n",
       "    }\n",
       "\n",
       "    .dataframe thead th {\n",
       "        text-align: right;\n",
       "    }\n",
       "</style>\n",
       "<table border=\"1\" class=\"dataframe\">\n",
       "  <thead>\n",
       "    <tr style=\"text-align: right;\">\n",
       "      <th></th>\n",
       "      <th>volume</th>\n",
       "      <th>mid_o</th>\n",
       "      <th>mid_h</th>\n",
       "      <th>mid_l</th>\n",
       "      <th>mid_c</th>\n",
       "      <th>bid_o</th>\n",
       "      <th>bid_h</th>\n",
       "      <th>bid_l</th>\n",
       "      <th>bid_c</th>\n",
       "      <th>ask_o</th>\n",
       "      <th>ask_h</th>\n",
       "      <th>ask_l</th>\n",
       "      <th>ask_c</th>\n",
       "    </tr>\n",
       "  </thead>\n",
       "  <tbody>\n",
       "    <tr>\n",
       "      <th>count</th>\n",
       "      <td>4000.000000</td>\n",
       "      <td>4000.000000</td>\n",
       "      <td>4000.000000</td>\n",
       "      <td>4000.000000</td>\n",
       "      <td>4000.000000</td>\n",
       "      <td>4000.000000</td>\n",
       "      <td>4000.000000</td>\n",
       "      <td>4000.000000</td>\n",
       "      <td>4000.000000</td>\n",
       "      <td>4000.000000</td>\n",
       "      <td>4000.000000</td>\n",
       "      <td>4000.000000</td>\n",
       "      <td>4000.000000</td>\n",
       "    </tr>\n",
       "    <tr>\n",
       "      <th>mean</th>\n",
       "      <td>3575.061000</td>\n",
       "      <td>1.082658</td>\n",
       "      <td>1.083296</td>\n",
       "      <td>1.082024</td>\n",
       "      <td>1.082653</td>\n",
       "      <td>1.082567</td>\n",
       "      <td>1.083215</td>\n",
       "      <td>1.081935</td>\n",
       "      <td>1.082571</td>\n",
       "      <td>1.082749</td>\n",
       "      <td>1.083384</td>\n",
       "      <td>1.082106</td>\n",
       "      <td>1.082735</td>\n",
       "    </tr>\n",
       "    <tr>\n",
       "      <th>std</th>\n",
       "      <td>2449.141788</td>\n",
       "      <td>0.017391</td>\n",
       "      <td>0.017399</td>\n",
       "      <td>0.017371</td>\n",
       "      <td>0.017390</td>\n",
       "      <td>0.017390</td>\n",
       "      <td>0.017399</td>\n",
       "      <td>0.017370</td>\n",
       "      <td>0.017389</td>\n",
       "      <td>0.017393</td>\n",
       "      <td>0.017400</td>\n",
       "      <td>0.017372</td>\n",
       "      <td>0.017391</td>\n",
       "    </tr>\n",
       "    <tr>\n",
       "      <th>min</th>\n",
       "      <td>127.000000</td>\n",
       "      <td>1.045260</td>\n",
       "      <td>1.046640</td>\n",
       "      <td>1.044850</td>\n",
       "      <td>1.045270</td>\n",
       "      <td>1.045180</td>\n",
       "      <td>1.046550</td>\n",
       "      <td>1.044770</td>\n",
       "      <td>1.045200</td>\n",
       "      <td>1.045330</td>\n",
       "      <td>1.046720</td>\n",
       "      <td>1.044930</td>\n",
       "      <td>1.045340</td>\n",
       "    </tr>\n",
       "    <tr>\n",
       "      <th>25%</th>\n",
       "      <td>1955.500000</td>\n",
       "      <td>1.069708</td>\n",
       "      <td>1.070120</td>\n",
       "      <td>1.069143</td>\n",
       "      <td>1.069675</td>\n",
       "      <td>1.069605</td>\n",
       "      <td>1.070048</td>\n",
       "      <td>1.069040</td>\n",
       "      <td>1.069605</td>\n",
       "      <td>1.069787</td>\n",
       "      <td>1.070225</td>\n",
       "      <td>1.069245</td>\n",
       "      <td>1.069755</td>\n",
       "    </tr>\n",
       "    <tr>\n",
       "      <th>50%</th>\n",
       "      <td>3066.000000</td>\n",
       "      <td>1.085000</td>\n",
       "      <td>1.085580</td>\n",
       "      <td>1.084370</td>\n",
       "      <td>1.084970</td>\n",
       "      <td>1.084910</td>\n",
       "      <td>1.085500</td>\n",
       "      <td>1.084265</td>\n",
       "      <td>1.084880</td>\n",
       "      <td>1.085105</td>\n",
       "      <td>1.085655</td>\n",
       "      <td>1.084450</td>\n",
       "      <td>1.085060</td>\n",
       "    </tr>\n",
       "    <tr>\n",
       "      <th>75%</th>\n",
       "      <td>4523.250000</td>\n",
       "      <td>1.095432</td>\n",
       "      <td>1.096045</td>\n",
       "      <td>1.094790</td>\n",
       "      <td>1.095422</td>\n",
       "      <td>1.095333</td>\n",
       "      <td>1.095975</td>\n",
       "      <td>1.094702</td>\n",
       "      <td>1.095310</td>\n",
       "      <td>1.095550</td>\n",
       "      <td>1.096140</td>\n",
       "      <td>1.094873</td>\n",
       "      <td>1.095515</td>\n",
       "    </tr>\n",
       "    <tr>\n",
       "      <th>max</th>\n",
       "      <td>19273.000000</td>\n",
       "      <td>1.125740</td>\n",
       "      <td>1.127570</td>\n",
       "      <td>1.125050</td>\n",
       "      <td>1.125760</td>\n",
       "      <td>1.125650</td>\n",
       "      <td>1.127490</td>\n",
       "      <td>1.124960</td>\n",
       "      <td>1.125670</td>\n",
       "      <td>1.125820</td>\n",
       "      <td>1.127650</td>\n",
       "      <td>1.125130</td>\n",
       "      <td>1.125840</td>\n",
       "    </tr>\n",
       "  </tbody>\n",
       "</table>\n",
       "</div>"
      ],
      "text/plain": [
       "             volume        mid_o        mid_h        mid_l        mid_c  \\\n",
       "count   4000.000000  4000.000000  4000.000000  4000.000000  4000.000000   \n",
       "mean    3575.061000     1.082658     1.083296     1.082024     1.082653   \n",
       "std     2449.141788     0.017391     0.017399     0.017371     0.017390   \n",
       "min      127.000000     1.045260     1.046640     1.044850     1.045270   \n",
       "25%     1955.500000     1.069708     1.070120     1.069143     1.069675   \n",
       "50%     3066.000000     1.085000     1.085580     1.084370     1.084970   \n",
       "75%     4523.250000     1.095432     1.096045     1.094790     1.095422   \n",
       "max    19273.000000     1.125740     1.127570     1.125050     1.125760   \n",
       "\n",
       "             bid_o        bid_h        bid_l        bid_c        ask_o  \\\n",
       "count  4000.000000  4000.000000  4000.000000  4000.000000  4000.000000   \n",
       "mean      1.082567     1.083215     1.081935     1.082571     1.082749   \n",
       "std       0.017390     0.017399     0.017370     0.017389     0.017393   \n",
       "min       1.045180     1.046550     1.044770     1.045200     1.045330   \n",
       "25%       1.069605     1.070048     1.069040     1.069605     1.069787   \n",
       "50%       1.084910     1.085500     1.084265     1.084880     1.085105   \n",
       "75%       1.095333     1.095975     1.094702     1.095310     1.095550   \n",
       "max       1.125650     1.127490     1.124960     1.125670     1.125820   \n",
       "\n",
       "             ask_h        ask_l        ask_c  \n",
       "count  4000.000000  4000.000000  4000.000000  \n",
       "mean      1.083384     1.082106     1.082735  \n",
       "std       0.017400     0.017372     0.017391  \n",
       "min       1.046720     1.044930     1.045340  \n",
       "25%       1.070225     1.069245     1.069755  \n",
       "50%       1.085655     1.084450     1.085060  \n",
       "75%       1.096140     1.094873     1.095515  \n",
       "max       1.127650     1.125130     1.125840  "
      ]
     },
     "execution_count": 15,
     "metadata": {},
     "output_type": "execute_result"
    }
   ],
   "source": [
    "df.describe()"
   ]
  },
  {
   "cell_type": "code",
   "execution_count": null,
   "metadata": {},
   "outputs": [],
   "source": []
  }
 ],
 "metadata": {
  "kernelspec": {
   "display_name": "venv",
   "language": "python",
   "name": "python3"
  },
  "language_info": {
   "codemirror_mode": {
    "name": "ipython",
    "version": 3
   },
   "file_extension": ".py",
   "mimetype": "text/x-python",
   "name": "python",
   "nbconvert_exporter": "python",
   "pygments_lexer": "ipython3",
   "version": "3.10.4"
  }
 },
 "nbformat": 4,
 "nbformat_minor": 2
}
