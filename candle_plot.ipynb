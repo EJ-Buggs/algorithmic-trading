{
 "cells": [
  {
   "cell_type": "code",
   "execution_count": 138,
   "metadata": {},
   "outputs": [],
   "source": [
    "import pandas as pd\n",
    "import utils\n",
    "import plotly.graph_objects as go\n",
    "import instrument"
   ]
  },
  {
   "cell_type": "code",
   "execution_count": 167,
   "metadata": {},
   "outputs": [],
   "source": [
    "pair = \"CAD_CHF\"\n",
    "granularity = \"H1\"\n",
    "ma_list = [16,64]\n",
    "i_pair = instrument.Instrument.get_instrument_by_name(pair)"
   ]
  },
  {
   "cell_type": "code",
   "execution_count": 168,
   "metadata": {},
   "outputs": [],
   "source": [
    "df = pd.read_pickle(utils.get_his_data_filename(pair, granularity))\n",
    "non_cols = ['time', 'volume']\n",
    "mod_cols = [x for x in df.columns if x not in non_cols]\n",
    "df[mod_cols] = df[mod_cols].apply(pd.to_numeric)"
   ]
  },
  {
   "cell_type": "code",
   "execution_count": 169,
   "metadata": {},
   "outputs": [],
   "source": [
    "df_ma = df[['time', 'mid_o', 'mid_h', 'mid_l', 'mid_c']].copy()\n",
    "for ma in ma_list:  \n",
    "    df_ma[f'MA_{ma}'] = df_ma.mid_c.rolling(window=ma).mean()\n",
    "df_ma.dropna(inplace=True)\n",
    "df_ma.reset_index(drop=True, inplace=True)"
   ]
  },
  {
   "cell_type": "code",
   "execution_count": 170,
   "metadata": {},
   "outputs": [
    {
     "data": {
      "text/html": [
       "<div>\n",
       "<style scoped>\n",
       "    .dataframe tbody tr th:only-of-type {\n",
       "        vertical-align: middle;\n",
       "    }\n",
       "\n",
       "    .dataframe tbody tr th {\n",
       "        vertical-align: top;\n",
       "    }\n",
       "\n",
       "    .dataframe thead th {\n",
       "        text-align: right;\n",
       "    }\n",
       "</style>\n",
       "<table border=\"1\" class=\"dataframe\">\n",
       "  <thead>\n",
       "    <tr style=\"text-align: right;\">\n",
       "      <th></th>\n",
       "      <th>time</th>\n",
       "      <th>mid_o</th>\n",
       "      <th>mid_h</th>\n",
       "      <th>mid_l</th>\n",
       "      <th>mid_c</th>\n",
       "      <th>MA_16</th>\n",
       "      <th>MA_64</th>\n",
       "    </tr>\n",
       "  </thead>\n",
       "  <tbody>\n",
       "    <tr>\n",
       "      <th>0</th>\n",
       "      <td>2023-04-24T18:00:00.000000000Z</td>\n",
       "      <td>0.65588</td>\n",
       "      <td>0.65590</td>\n",
       "      <td>0.65532</td>\n",
       "      <td>0.65568</td>\n",
       "      <td>0.657024</td>\n",
       "      <td>0.660572</td>\n",
       "    </tr>\n",
       "    <tr>\n",
       "      <th>1</th>\n",
       "      <td>2023-04-24T19:00:00.000000000Z</td>\n",
       "      <td>0.65566</td>\n",
       "      <td>0.65612</td>\n",
       "      <td>0.65566</td>\n",
       "      <td>0.65604</td>\n",
       "      <td>0.656872</td>\n",
       "      <td>0.660419</td>\n",
       "    </tr>\n",
       "    <tr>\n",
       "      <th>2</th>\n",
       "      <td>2023-04-24T20:00:00.000000000Z</td>\n",
       "      <td>0.65603</td>\n",
       "      <td>0.65607</td>\n",
       "      <td>0.65546</td>\n",
       "      <td>0.65554</td>\n",
       "      <td>0.656708</td>\n",
       "      <td>0.660261</td>\n",
       "    </tr>\n",
       "    <tr>\n",
       "      <th>3</th>\n",
       "      <td>2023-04-24T21:00:00.000000000Z</td>\n",
       "      <td>0.65574</td>\n",
       "      <td>0.65602</td>\n",
       "      <td>0.65546</td>\n",
       "      <td>0.65560</td>\n",
       "      <td>0.656539</td>\n",
       "      <td>0.660106</td>\n",
       "    </tr>\n",
       "    <tr>\n",
       "      <th>4</th>\n",
       "      <td>2023-04-24T22:00:00.000000000Z</td>\n",
       "      <td>0.65558</td>\n",
       "      <td>0.65564</td>\n",
       "      <td>0.65540</td>\n",
       "      <td>0.65560</td>\n",
       "      <td>0.656398</td>\n",
       "      <td>0.659950</td>\n",
       "    </tr>\n",
       "  </tbody>\n",
       "</table>\n",
       "</div>"
      ],
      "text/plain": [
       "                             time    mid_o    mid_h    mid_l    mid_c  \\\n",
       "0  2023-04-24T18:00:00.000000000Z  0.65588  0.65590  0.65532  0.65568   \n",
       "1  2023-04-24T19:00:00.000000000Z  0.65566  0.65612  0.65566  0.65604   \n",
       "2  2023-04-24T20:00:00.000000000Z  0.65603  0.65607  0.65546  0.65554   \n",
       "3  2023-04-24T21:00:00.000000000Z  0.65574  0.65602  0.65546  0.65560   \n",
       "4  2023-04-24T22:00:00.000000000Z  0.65558  0.65564  0.65540  0.65560   \n",
       "\n",
       "      MA_16     MA_64  \n",
       "0  0.657024  0.660572  \n",
       "1  0.656872  0.660419  \n",
       "2  0.656708  0.660261  \n",
       "3  0.656539  0.660106  \n",
       "4  0.656398  0.659950  "
      ]
     },
     "execution_count": 170,
     "metadata": {},
     "output_type": "execute_result"
    }
   ],
   "source": [
    "df_ma.head()"
   ]
  },
  {
   "cell_type": "code",
   "execution_count": 171,
   "metadata": {},
   "outputs": [],
   "source": [
    "def is_trade(row):\n",
    "    if row.DIFF >= 0 and row.DIFF_PREV < 0:\n",
    "        return 1\n",
    "    if row.DIFF <= 0 and row.DIFF_PREV > 0:\n",
    "        return -1\n",
    "    return 0"
   ]
  },
  {
   "cell_type": "code",
   "execution_count": 172,
   "metadata": {},
   "outputs": [],
   "source": [
    "df_ma['DIFF'] = df_ma.MA_16 - df_ma.MA_64\n",
    "df_ma['DIFF_PREV'] = df_ma.DIFF.shift(1)\n",
    "df_ma['IS_TRADE'] = df_ma.apply(is_trade, axis=1)\n",
    "df_trades = df_ma[df_ma.IS_TRADE!=0].copy()"
   ]
  },
  {
   "cell_type": "code",
   "execution_count": 176,
   "metadata": {},
   "outputs": [
    {
     "data": {
      "text/html": [
       "<div>\n",
       "<style scoped>\n",
       "    .dataframe tbody tr th:only-of-type {\n",
       "        vertical-align: middle;\n",
       "    }\n",
       "\n",
       "    .dataframe tbody tr th {\n",
       "        vertical-align: top;\n",
       "    }\n",
       "\n",
       "    .dataframe thead th {\n",
       "        text-align: right;\n",
       "    }\n",
       "</style>\n",
       "<table border=\"1\" class=\"dataframe\">\n",
       "  <thead>\n",
       "    <tr style=\"text-align: right;\">\n",
       "      <th></th>\n",
       "      <th>time</th>\n",
       "      <th>mid_o</th>\n",
       "      <th>mid_h</th>\n",
       "      <th>mid_l</th>\n",
       "      <th>mid_c</th>\n",
       "      <th>MA_16</th>\n",
       "      <th>MA_64</th>\n",
       "      <th>DIFF</th>\n",
       "      <th>DIFF_PREV</th>\n",
       "      <th>IS_TRADE</th>\n",
       "      <th>DELTA</th>\n",
       "      <th>GAIN</th>\n",
       "    </tr>\n",
       "  </thead>\n",
       "  <tbody>\n",
       "    <tr>\n",
       "      <th>66</th>\n",
       "      <td>2023-04-27T12:00:00.000000000Z</td>\n",
       "      <td>0.65634</td>\n",
       "      <td>0.65850</td>\n",
       "      <td>0.65519</td>\n",
       "      <td>0.65787</td>\n",
       "      <td>0.654308</td>\n",
       "      <td>0.654113</td>\n",
       "      <td>0.000195</td>\n",
       "      <td>-0.000039</td>\n",
       "      <td>1</td>\n",
       "      <td>-22.9</td>\n",
       "      <td>-22.9</td>\n",
       "    </tr>\n",
       "    <tr>\n",
       "      <th>146</th>\n",
       "      <td>2023-05-02T20:00:00.000000000Z</td>\n",
       "      <td>0.65532</td>\n",
       "      <td>0.65563</td>\n",
       "      <td>0.65520</td>\n",
       "      <td>0.65558</td>\n",
       "      <td>0.658992</td>\n",
       "      <td>0.659198</td>\n",
       "      <td>-0.000206</td>\n",
       "      <td>0.000152</td>\n",
       "      <td>-1</td>\n",
       "      <td>-11.9</td>\n",
       "      <td>11.9</td>\n",
       "    </tr>\n",
       "    <tr>\n",
       "      <th>199</th>\n",
       "      <td>2023-05-05T01:00:00.000000000Z</td>\n",
       "      <td>0.65472</td>\n",
       "      <td>0.65473</td>\n",
       "      <td>0.65420</td>\n",
       "      <td>0.65439</td>\n",
       "      <td>0.653466</td>\n",
       "      <td>0.653211</td>\n",
       "      <td>0.000255</td>\n",
       "      <td>-0.000006</td>\n",
       "      <td>1</td>\n",
       "      <td>104.7</td>\n",
       "      <td>104.7</td>\n",
       "    </tr>\n",
       "    <tr>\n",
       "      <th>273</th>\n",
       "      <td>2023-05-10T03:00:00.000000000Z</td>\n",
       "      <td>0.66506</td>\n",
       "      <td>0.66512</td>\n",
       "      <td>0.66478</td>\n",
       "      <td>0.66486</td>\n",
       "      <td>0.665484</td>\n",
       "      <td>0.665545</td>\n",
       "      <td>-0.000061</td>\n",
       "      <td>0.000119</td>\n",
       "      <td>-1</td>\n",
       "      <td>20.6</td>\n",
       "      <td>-20.6</td>\n",
       "    </tr>\n",
       "    <tr>\n",
       "      <th>303</th>\n",
       "      <td>2023-05-11T09:00:00.000000000Z</td>\n",
       "      <td>0.66723</td>\n",
       "      <td>0.66738</td>\n",
       "      <td>0.66648</td>\n",
       "      <td>0.66692</td>\n",
       "      <td>0.665543</td>\n",
       "      <td>0.665529</td>\n",
       "      <td>0.000015</td>\n",
       "      <td>-0.000114</td>\n",
       "      <td>1</td>\n",
       "      <td>-32.2</td>\n",
       "      <td>-32.2</td>\n",
       "    </tr>\n",
       "  </tbody>\n",
       "</table>\n",
       "</div>"
      ],
      "text/plain": [
       "                               time    mid_o    mid_h    mid_l    mid_c  \\\n",
       "66   2023-04-27T12:00:00.000000000Z  0.65634  0.65850  0.65519  0.65787   \n",
       "146  2023-05-02T20:00:00.000000000Z  0.65532  0.65563  0.65520  0.65558   \n",
       "199  2023-05-05T01:00:00.000000000Z  0.65472  0.65473  0.65420  0.65439   \n",
       "273  2023-05-10T03:00:00.000000000Z  0.66506  0.66512  0.66478  0.66486   \n",
       "303  2023-05-11T09:00:00.000000000Z  0.66723  0.66738  0.66648  0.66692   \n",
       "\n",
       "        MA_16     MA_64      DIFF  DIFF_PREV  IS_TRADE  DELTA   GAIN  \n",
       "66   0.654308  0.654113  0.000195  -0.000039         1  -22.9  -22.9  \n",
       "146  0.658992  0.659198 -0.000206   0.000152        -1  -11.9   11.9  \n",
       "199  0.653466  0.653211  0.000255  -0.000006         1  104.7  104.7  \n",
       "273  0.665484  0.665545 -0.000061   0.000119        -1   20.6  -20.6  \n",
       "303  0.665543  0.665529  0.000015  -0.000114         1  -32.2  -32.2  "
      ]
     },
     "execution_count": 176,
     "metadata": {},
     "output_type": "execute_result"
    }
   ],
   "source": [
    "df_trades.head()"
   ]
  },
  {
   "cell_type": "code",
   "execution_count": 174,
   "metadata": {},
   "outputs": [],
   "source": [
    "df_trades[\"DELTA\"] = ( df_trades.mid_c.diff() / i_pair.pipLocation).shift(-1)\n",
    "df_trades[\"GAIN\"] =df_trades[\"DELTA\"] * df_trades[\"IS_TRADE\"]"
   ]
  },
  {
   "cell_type": "code",
   "execution_count": 175,
   "metadata": {},
   "outputs": [
    {
     "data": {
      "text/plain": [
       "395.70000000000533"
      ]
     },
     "execution_count": 175,
     "metadata": {},
     "output_type": "execute_result"
    }
   ],
   "source": [
    "df_trades[\"GAIN\"].sum()"
   ]
  },
  {
   "cell_type": "code",
   "execution_count": null,
   "metadata": {},
   "outputs": [],
   "source": [
    "df_plot = df_ma.iloc[0:24].copy()"
   ]
  },
  {
   "cell_type": "code",
   "execution_count": 156,
   "metadata": {},
   "outputs": [
    {
     "data": {
      "text/plain": [
       "(24, 10)"
      ]
     },
     "execution_count": 156,
     "metadata": {},
     "output_type": "execute_result"
    }
   ],
   "source": [
    "df_plot.shape"
   ]
  },
  {
   "cell_type": "code",
   "execution_count": 157,
   "metadata": {},
   "outputs": [
    {
     "data": {
      "application/vnd.plotly.v1+json": {
       "config": {
        "plotlyServerURL": "https://plot.ly"
       },
       "data": [
        {
         "close": [
          1.10458,
          1.10468,
          1.10512,
          1.10572,
          1.10592,
          1.10568,
          1.10538,
          1.10529,
          1.10512,
          1.10492,
          1.10517,
          1.1033,
          1.10397,
          1.10304,
          1.10206,
          1.1017,
          1.10173,
          1.09994,
          1.09768,
          1.09686,
          1.09682,
          1.09688,
          1.09725,
          1.09699
         ],
         "decreasing": {
          "fillcolor": "#CC2E3C",
          "line": {
           "color": "#FF3A4C"
          }
         },
         "high": [
          1.10458,
          1.10487,
          1.1052,
          1.10573,
          1.10666,
          1.10671,
          1.1057,
          1.10568,
          1.10588,
          1.10544,
          1.10566,
          1.10517,
          1.10414,
          1.1044,
          1.1036,
          1.10238,
          1.10296,
          1.10188,
          1.10038,
          1.09876,
          1.09734,
          1.0973,
          1.09738,
          1.09762
         ],
         "increasing": {
          "fillcolor": "#24A06B",
          "line": {
           "color": "#2EC886"
          }
         },
         "line": {
          "width": 1
         },
         "low": [
          1.10434,
          1.10429,
          1.10462,
          1.10495,
          1.10535,
          1.10562,
          1.1052,
          1.10515,
          1.10508,
          1.1045,
          1.10462,
          1.10246,
          1.10255,
          1.103,
          1.10196,
          1.10096,
          1.10142,
          1.09944,
          1.09752,
          1.09686,
          1.09653,
          1.09642,
          1.09647,
          1.09686
         ],
         "opacity": 1,
         "open": [
          1.10434,
          1.10461,
          1.10469,
          1.10512,
          1.10578,
          1.10592,
          1.10568,
          1.10538,
          1.1053,
          1.10512,
          1.10488,
          1.10516,
          1.1033,
          1.10398,
          1.10305,
          1.10206,
          1.10168,
          1.10172,
          1.09993,
          1.09768,
          1.09688,
          1.09685,
          1.09688,
          1.09724
         ],
         "type": "candlestick",
         "x": [
          "2023-04-24T20:00:00.000000000Z",
          "2023-04-24T21:00:00.000000000Z",
          "2023-04-24T22:00:00.000000000Z",
          "2023-04-24T23:00:00.000000000Z",
          "2023-04-25T00:00:00.000000000Z",
          "2023-04-25T01:00:00.000000000Z",
          "2023-04-25T02:00:00.000000000Z",
          "2023-04-25T03:00:00.000000000Z",
          "2023-04-25T04:00:00.000000000Z",
          "2023-04-25T05:00:00.000000000Z",
          "2023-04-25T06:00:00.000000000Z",
          "2023-04-25T07:00:00.000000000Z",
          "2023-04-25T08:00:00.000000000Z",
          "2023-04-25T09:00:00.000000000Z",
          "2023-04-25T10:00:00.000000000Z",
          "2023-04-25T11:00:00.000000000Z",
          "2023-04-25T12:00:00.000000000Z",
          "2023-04-25T13:00:00.000000000Z",
          "2023-04-25T14:00:00.000000000Z",
          "2023-04-25T15:00:00.000000000Z",
          "2023-04-25T16:00:00.000000000Z",
          "2023-04-25T17:00:00.000000000Z",
          "2023-04-25T18:00:00.000000000Z",
          "2023-04-25T19:00:00.000000000Z"
         ]
        },
        {
         "line": {
          "shape": "spline",
          "width": 2
         },
         "name": "MA_16",
         "type": "scatter",
         "x": [
          "2023-04-24T20:00:00.000000000Z",
          "2023-04-24T21:00:00.000000000Z",
          "2023-04-24T22:00:00.000000000Z",
          "2023-04-24T23:00:00.000000000Z",
          "2023-04-25T00:00:00.000000000Z",
          "2023-04-25T01:00:00.000000000Z",
          "2023-04-25T02:00:00.000000000Z",
          "2023-04-25T03:00:00.000000000Z",
          "2023-04-25T04:00:00.000000000Z",
          "2023-04-25T05:00:00.000000000Z",
          "2023-04-25T06:00:00.000000000Z",
          "2023-04-25T07:00:00.000000000Z",
          "2023-04-25T08:00:00.000000000Z",
          "2023-04-25T09:00:00.000000000Z",
          "2023-04-25T10:00:00.000000000Z",
          "2023-04-25T11:00:00.000000000Z",
          "2023-04-25T12:00:00.000000000Z",
          "2023-04-25T13:00:00.000000000Z",
          "2023-04-25T14:00:00.000000000Z",
          "2023-04-25T15:00:00.000000000Z",
          "2023-04-25T16:00:00.000000000Z",
          "2023-04-25T17:00:00.000000000Z",
          "2023-04-25T18:00:00.000000000Z",
          "2023-04-25T19:00:00.000000000Z"
         ],
         "y": [
          1.1017762500000001,
          1.10220375,
          1.102680625,
          1.103120625,
          1.1034356250000001,
          1.1037881250000001,
          1.10402125,
          1.104336875,
          1.104513125,
          1.104670625,
          1.10481,
          1.104855,
          1.1048912499999999,
          1.104805,
          1.1046425,
          1.1044781250000002,
          1.1043,
          1.1040037500000002,
          1.1035387499999998,
          1.102985,
          1.1024162499999999,
          1.10186625,
          1.101358125,
          1.1008393749999998
         ]
        },
        {
         "line": {
          "shape": "spline",
          "width": 2
         },
         "name": "MA_64",
         "type": "scatter",
         "x": [
          "2023-04-24T20:00:00.000000000Z",
          "2023-04-24T21:00:00.000000000Z",
          "2023-04-24T22:00:00.000000000Z",
          "2023-04-24T23:00:00.000000000Z",
          "2023-04-25T00:00:00.000000000Z",
          "2023-04-25T01:00:00.000000000Z",
          "2023-04-25T02:00:00.000000000Z",
          "2023-04-25T03:00:00.000000000Z",
          "2023-04-25T04:00:00.000000000Z",
          "2023-04-25T05:00:00.000000000Z",
          "2023-04-25T06:00:00.000000000Z",
          "2023-04-25T07:00:00.000000000Z",
          "2023-04-25T08:00:00.000000000Z",
          "2023-04-25T09:00:00.000000000Z",
          "2023-04-25T10:00:00.000000000Z",
          "2023-04-25T11:00:00.000000000Z",
          "2023-04-25T12:00:00.000000000Z",
          "2023-04-25T13:00:00.000000000Z",
          "2023-04-25T14:00:00.000000000Z",
          "2023-04-25T15:00:00.000000000Z",
          "2023-04-25T16:00:00.000000000Z",
          "2023-04-25T17:00:00.000000000Z",
          "2023-04-25T18:00:00.000000000Z",
          "2023-04-25T19:00:00.000000000Z"
         ],
         "y": [
          1.0983184375,
          1.0984509375,
          1.0985821875,
          1.09873203125,
          1.0988690625,
          1.0990175,
          1.0991465625,
          1.0992996875,
          1.0994146875,
          1.0995342187500001,
          1.09964671875,
          1.0997459374999998,
          1.09985921875,
          1.09995296875,
          1.1000396875,
          1.1001231249999999,
          1.10019625,
          1.1002425,
          1.100255625,
          1.1002568750000001,
          1.10025375,
          1.100259375,
          1.10027046875,
          1.10027953125
         ]
        }
       ],
       "layout": {
        "font": {
         "color": "#e1e1e1",
         "size": 10
        },
        "height": 400,
        "margin": {
         "b": 10,
         "l": 10,
         "r": 10,
         "t": 10
        },
        "paper_bgcolor": "#1e1e1e",
        "plot_bgcolor": "#1e1e1e",
        "template": {
         "data": {
          "bar": [
           {
            "error_x": {
             "color": "#2a3f5f"
            },
            "error_y": {
             "color": "#2a3f5f"
            },
            "marker": {
             "line": {
              "color": "#E5ECF6",
              "width": 0.5
             },
             "pattern": {
              "fillmode": "overlay",
              "size": 10,
              "solidity": 0.2
             }
            },
            "type": "bar"
           }
          ],
          "barpolar": [
           {
            "marker": {
             "line": {
              "color": "#E5ECF6",
              "width": 0.5
             },
             "pattern": {
              "fillmode": "overlay",
              "size": 10,
              "solidity": 0.2
             }
            },
            "type": "barpolar"
           }
          ],
          "carpet": [
           {
            "aaxis": {
             "endlinecolor": "#2a3f5f",
             "gridcolor": "white",
             "linecolor": "white",
             "minorgridcolor": "white",
             "startlinecolor": "#2a3f5f"
            },
            "baxis": {
             "endlinecolor": "#2a3f5f",
             "gridcolor": "white",
             "linecolor": "white",
             "minorgridcolor": "white",
             "startlinecolor": "#2a3f5f"
            },
            "type": "carpet"
           }
          ],
          "choropleth": [
           {
            "colorbar": {
             "outlinewidth": 0,
             "ticks": ""
            },
            "type": "choropleth"
           }
          ],
          "contour": [
           {
            "colorbar": {
             "outlinewidth": 0,
             "ticks": ""
            },
            "colorscale": [
             [
              0,
              "#0d0887"
             ],
             [
              0.1111111111111111,
              "#46039f"
             ],
             [
              0.2222222222222222,
              "#7201a8"
             ],
             [
              0.3333333333333333,
              "#9c179e"
             ],
             [
              0.4444444444444444,
              "#bd3786"
             ],
             [
              0.5555555555555556,
              "#d8576b"
             ],
             [
              0.6666666666666666,
              "#ed7953"
             ],
             [
              0.7777777777777778,
              "#fb9f3a"
             ],
             [
              0.8888888888888888,
              "#fdca26"
             ],
             [
              1,
              "#f0f921"
             ]
            ],
            "type": "contour"
           }
          ],
          "contourcarpet": [
           {
            "colorbar": {
             "outlinewidth": 0,
             "ticks": ""
            },
            "type": "contourcarpet"
           }
          ],
          "heatmap": [
           {
            "colorbar": {
             "outlinewidth": 0,
             "ticks": ""
            },
            "colorscale": [
             [
              0,
              "#0d0887"
             ],
             [
              0.1111111111111111,
              "#46039f"
             ],
             [
              0.2222222222222222,
              "#7201a8"
             ],
             [
              0.3333333333333333,
              "#9c179e"
             ],
             [
              0.4444444444444444,
              "#bd3786"
             ],
             [
              0.5555555555555556,
              "#d8576b"
             ],
             [
              0.6666666666666666,
              "#ed7953"
             ],
             [
              0.7777777777777778,
              "#fb9f3a"
             ],
             [
              0.8888888888888888,
              "#fdca26"
             ],
             [
              1,
              "#f0f921"
             ]
            ],
            "type": "heatmap"
           }
          ],
          "heatmapgl": [
           {
            "colorbar": {
             "outlinewidth": 0,
             "ticks": ""
            },
            "colorscale": [
             [
              0,
              "#0d0887"
             ],
             [
              0.1111111111111111,
              "#46039f"
             ],
             [
              0.2222222222222222,
              "#7201a8"
             ],
             [
              0.3333333333333333,
              "#9c179e"
             ],
             [
              0.4444444444444444,
              "#bd3786"
             ],
             [
              0.5555555555555556,
              "#d8576b"
             ],
             [
              0.6666666666666666,
              "#ed7953"
             ],
             [
              0.7777777777777778,
              "#fb9f3a"
             ],
             [
              0.8888888888888888,
              "#fdca26"
             ],
             [
              1,
              "#f0f921"
             ]
            ],
            "type": "heatmapgl"
           }
          ],
          "histogram": [
           {
            "marker": {
             "pattern": {
              "fillmode": "overlay",
              "size": 10,
              "solidity": 0.2
             }
            },
            "type": "histogram"
           }
          ],
          "histogram2d": [
           {
            "colorbar": {
             "outlinewidth": 0,
             "ticks": ""
            },
            "colorscale": [
             [
              0,
              "#0d0887"
             ],
             [
              0.1111111111111111,
              "#46039f"
             ],
             [
              0.2222222222222222,
              "#7201a8"
             ],
             [
              0.3333333333333333,
              "#9c179e"
             ],
             [
              0.4444444444444444,
              "#bd3786"
             ],
             [
              0.5555555555555556,
              "#d8576b"
             ],
             [
              0.6666666666666666,
              "#ed7953"
             ],
             [
              0.7777777777777778,
              "#fb9f3a"
             ],
             [
              0.8888888888888888,
              "#fdca26"
             ],
             [
              1,
              "#f0f921"
             ]
            ],
            "type": "histogram2d"
           }
          ],
          "histogram2dcontour": [
           {
            "colorbar": {
             "outlinewidth": 0,
             "ticks": ""
            },
            "colorscale": [
             [
              0,
              "#0d0887"
             ],
             [
              0.1111111111111111,
              "#46039f"
             ],
             [
              0.2222222222222222,
              "#7201a8"
             ],
             [
              0.3333333333333333,
              "#9c179e"
             ],
             [
              0.4444444444444444,
              "#bd3786"
             ],
             [
              0.5555555555555556,
              "#d8576b"
             ],
             [
              0.6666666666666666,
              "#ed7953"
             ],
             [
              0.7777777777777778,
              "#fb9f3a"
             ],
             [
              0.8888888888888888,
              "#fdca26"
             ],
             [
              1,
              "#f0f921"
             ]
            ],
            "type": "histogram2dcontour"
           }
          ],
          "mesh3d": [
           {
            "colorbar": {
             "outlinewidth": 0,
             "ticks": ""
            },
            "type": "mesh3d"
           }
          ],
          "parcoords": [
           {
            "line": {
             "colorbar": {
              "outlinewidth": 0,
              "ticks": ""
             }
            },
            "type": "parcoords"
           }
          ],
          "pie": [
           {
            "automargin": true,
            "type": "pie"
           }
          ],
          "scatter": [
           {
            "fillpattern": {
             "fillmode": "overlay",
             "size": 10,
             "solidity": 0.2
            },
            "type": "scatter"
           }
          ],
          "scatter3d": [
           {
            "line": {
             "colorbar": {
              "outlinewidth": 0,
              "ticks": ""
             }
            },
            "marker": {
             "colorbar": {
              "outlinewidth": 0,
              "ticks": ""
             }
            },
            "type": "scatter3d"
           }
          ],
          "scattercarpet": [
           {
            "marker": {
             "colorbar": {
              "outlinewidth": 0,
              "ticks": ""
             }
            },
            "type": "scattercarpet"
           }
          ],
          "scattergeo": [
           {
            "marker": {
             "colorbar": {
              "outlinewidth": 0,
              "ticks": ""
             }
            },
            "type": "scattergeo"
           }
          ],
          "scattergl": [
           {
            "marker": {
             "colorbar": {
              "outlinewidth": 0,
              "ticks": ""
             }
            },
            "type": "scattergl"
           }
          ],
          "scattermapbox": [
           {
            "marker": {
             "colorbar": {
              "outlinewidth": 0,
              "ticks": ""
             }
            },
            "type": "scattermapbox"
           }
          ],
          "scatterpolar": [
           {
            "marker": {
             "colorbar": {
              "outlinewidth": 0,
              "ticks": ""
             }
            },
            "type": "scatterpolar"
           }
          ],
          "scatterpolargl": [
           {
            "marker": {
             "colorbar": {
              "outlinewidth": 0,
              "ticks": ""
             }
            },
            "type": "scatterpolargl"
           }
          ],
          "scatterternary": [
           {
            "marker": {
             "colorbar": {
              "outlinewidth": 0,
              "ticks": ""
             }
            },
            "type": "scatterternary"
           }
          ],
          "surface": [
           {
            "colorbar": {
             "outlinewidth": 0,
             "ticks": ""
            },
            "colorscale": [
             [
              0,
              "#0d0887"
             ],
             [
              0.1111111111111111,
              "#46039f"
             ],
             [
              0.2222222222222222,
              "#7201a8"
             ],
             [
              0.3333333333333333,
              "#9c179e"
             ],
             [
              0.4444444444444444,
              "#bd3786"
             ],
             [
              0.5555555555555556,
              "#d8576b"
             ],
             [
              0.6666666666666666,
              "#ed7953"
             ],
             [
              0.7777777777777778,
              "#fb9f3a"
             ],
             [
              0.8888888888888888,
              "#fdca26"
             ],
             [
              1,
              "#f0f921"
             ]
            ],
            "type": "surface"
           }
          ],
          "table": [
           {
            "cells": {
             "fill": {
              "color": "#EBF0F8"
             },
             "line": {
              "color": "white"
             }
            },
            "header": {
             "fill": {
              "color": "#C8D4E3"
             },
             "line": {
              "color": "white"
             }
            },
            "type": "table"
           }
          ]
         },
         "layout": {
          "annotationdefaults": {
           "arrowcolor": "#2a3f5f",
           "arrowhead": 0,
           "arrowwidth": 1
          },
          "autotypenumbers": "strict",
          "coloraxis": {
           "colorbar": {
            "outlinewidth": 0,
            "ticks": ""
           }
          },
          "colorscale": {
           "diverging": [
            [
             0,
             "#8e0152"
            ],
            [
             0.1,
             "#c51b7d"
            ],
            [
             0.2,
             "#de77ae"
            ],
            [
             0.3,
             "#f1b6da"
            ],
            [
             0.4,
             "#fde0ef"
            ],
            [
             0.5,
             "#f7f7f7"
            ],
            [
             0.6,
             "#e6f5d0"
            ],
            [
             0.7,
             "#b8e186"
            ],
            [
             0.8,
             "#7fbc41"
            ],
            [
             0.9,
             "#4d9221"
            ],
            [
             1,
             "#276419"
            ]
           ],
           "sequential": [
            [
             0,
             "#0d0887"
            ],
            [
             0.1111111111111111,
             "#46039f"
            ],
            [
             0.2222222222222222,
             "#7201a8"
            ],
            [
             0.3333333333333333,
             "#9c179e"
            ],
            [
             0.4444444444444444,
             "#bd3786"
            ],
            [
             0.5555555555555556,
             "#d8576b"
            ],
            [
             0.6666666666666666,
             "#ed7953"
            ],
            [
             0.7777777777777778,
             "#fb9f3a"
            ],
            [
             0.8888888888888888,
             "#fdca26"
            ],
            [
             1,
             "#f0f921"
            ]
           ],
           "sequentialminus": [
            [
             0,
             "#0d0887"
            ],
            [
             0.1111111111111111,
             "#46039f"
            ],
            [
             0.2222222222222222,
             "#7201a8"
            ],
            [
             0.3333333333333333,
             "#9c179e"
            ],
            [
             0.4444444444444444,
             "#bd3786"
            ],
            [
             0.5555555555555556,
             "#d8576b"
            ],
            [
             0.6666666666666666,
             "#ed7953"
            ],
            [
             0.7777777777777778,
             "#fb9f3a"
            ],
            [
             0.8888888888888888,
             "#fdca26"
            ],
            [
             1,
             "#f0f921"
            ]
           ]
          },
          "colorway": [
           "#636efa",
           "#EF553B",
           "#00cc96",
           "#ab63fa",
           "#FFA15A",
           "#19d3f3",
           "#FF6692",
           "#B6E880",
           "#FF97FF",
           "#FECB52"
          ],
          "font": {
           "color": "#2a3f5f"
          },
          "geo": {
           "bgcolor": "white",
           "lakecolor": "white",
           "landcolor": "#E5ECF6",
           "showlakes": true,
           "showland": true,
           "subunitcolor": "white"
          },
          "hoverlabel": {
           "align": "left"
          },
          "hovermode": "closest",
          "mapbox": {
           "style": "light"
          },
          "paper_bgcolor": "white",
          "plot_bgcolor": "#E5ECF6",
          "polar": {
           "angularaxis": {
            "gridcolor": "white",
            "linecolor": "white",
            "ticks": ""
           },
           "bgcolor": "#E5ECF6",
           "radialaxis": {
            "gridcolor": "white",
            "linecolor": "white",
            "ticks": ""
           }
          },
          "scene": {
           "xaxis": {
            "backgroundcolor": "#E5ECF6",
            "gridcolor": "white",
            "gridwidth": 2,
            "linecolor": "white",
            "showbackground": true,
            "ticks": "",
            "zerolinecolor": "white"
           },
           "yaxis": {
            "backgroundcolor": "#E5ECF6",
            "gridcolor": "white",
            "gridwidth": 2,
            "linecolor": "white",
            "showbackground": true,
            "ticks": "",
            "zerolinecolor": "white"
           },
           "zaxis": {
            "backgroundcolor": "#E5ECF6",
            "gridcolor": "white",
            "gridwidth": 2,
            "linecolor": "white",
            "showbackground": true,
            "ticks": "",
            "zerolinecolor": "white"
           }
          },
          "shapedefaults": {
           "line": {
            "color": "#2a3f5f"
           }
          },
          "ternary": {
           "aaxis": {
            "gridcolor": "white",
            "linecolor": "white",
            "ticks": ""
           },
           "baxis": {
            "gridcolor": "white",
            "linecolor": "white",
            "ticks": ""
           },
           "bgcolor": "#E5ECF6",
           "caxis": {
            "gridcolor": "white",
            "linecolor": "white",
            "ticks": ""
           }
          },
          "title": {
           "x": 0.05
          },
          "xaxis": {
           "automargin": true,
           "gridcolor": "white",
           "linecolor": "white",
           "ticks": "",
           "title": {
            "standoff": 15
           },
           "zerolinecolor": "white",
           "zerolinewidth": 2
          },
          "yaxis": {
           "automargin": true,
           "gridcolor": "white",
           "linecolor": "white",
           "ticks": "",
           "title": {
            "standoff": 15
           },
           "zerolinecolor": "white",
           "zerolinewidth": 2
          }
         }
        },
        "width": 1000,
        "xaxis": {
         "fixedrange": true,
         "gridcolor": "#1f292f",
         "rangeslider": {
          "visible": false
         },
         "showgrid": true
        },
        "yaxis": {
         "gridcolor": "#1f292f",
         "showgrid": true
        }
       }
      }
     },
     "metadata": {},
     "output_type": "display_data"
    }
   ],
   "source": [
    "fig = go.Figure()\n",
    "fig.add_trace(go.Candlestick(\n",
    "    x=df_plot.time, open=df_plot.mid_o, high=df_plot.mid_h, low=df_plot.mid_l, close=df_plot.mid_c,\n",
    "    line=dict(width=1), opacity=1,\n",
    "    increasing_fillcolor='#24A06B',\n",
    "    decreasing_fillcolor=\"#CC2E3C\",\n",
    "    increasing_line_color='#2EC886',  \n",
    "    decreasing_line_color='#FF3A4C'\n",
    "))\n",
    "for ma in ma_list:  \n",
    "    col = f\"MA_{ma}\"\n",
    "    fig.add_trace(go.Scatter(x=df_plot.time, \n",
    "        y=df_plot[col],\n",
    "        line=dict(width=2),\n",
    "        line_shape='spline',\n",
    "        name=col\n",
    "        ))\n",
    "fig.update_layout(width=1000,height=400,\n",
    "    margin=dict(l=10,r=10,b=10,t=10),\n",
    "    font=dict(size=10,color=\"#e1e1e1\"),\n",
    "    paper_bgcolor=\"#1e1e1e\",\n",
    "    plot_bgcolor=\"#1e1e1e\")\n",
    "fig.update_xaxes(\n",
    "    gridcolor=\"#1f292f\",\n",
    "    showgrid=True,fixedrange=True,rangeslider=dict(visible=False)\n",
    ")\n",
    "fig.update_yaxes(\n",
    "    gridcolor=\"#1f292f\",\n",
    "    showgrid=True\n",
    ")\n",
    "fig.show()"
   ]
  },
  {
   "cell_type": "code",
   "execution_count": null,
   "metadata": {},
   "outputs": [],
   "source": []
  }
 ],
 "metadata": {
  "kernelspec": {
   "display_name": "Python 3",
   "language": "python",
   "name": "python3"
  },
  "language_info": {
   "codemirror_mode": {
    "name": "ipython",
    "version": 3
   },
   "file_extension": ".py",
   "mimetype": "text/x-python",
   "name": "python",
   "nbconvert_exporter": "python",
   "pygments_lexer": "ipython3",
   "version": "3.8.6-final"
  },
  "orig_nbformat": 2
 },
 "nbformat": 4,
 "nbformat_minor": 2
}
