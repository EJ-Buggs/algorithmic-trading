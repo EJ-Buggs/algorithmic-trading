{
 "cells": [
  {
   "cell_type": "code",
   "execution_count": 11,
   "metadata": {},
   "outputs": [],
   "source": [
    "import requests\n",
    "import defs\n",
    "import pandas as pd"
   ]
  },
  {
   "cell_type": "code",
   "execution_count": 2,
   "metadata": {},
   "outputs": [],
   "source": [
    "session = requests.Session()"
   ]
  },
  {
   "cell_type": "code",
   "execution_count": 3,
   "metadata": {},
   "outputs": [],
   "source": [
    "instrument = \"EUR_USD\"\n",
    "count = 10\n",
    "granularity = \"H1\""
   ]
  },
  {
   "cell_type": "code",
   "execution_count": 4,
   "metadata": {},
   "outputs": [],
   "source": [
    "url = f\"{defs.OANDA_URL}/instruments/{instrument}/candles\""
   ]
  },
  {
   "cell_type": "code",
   "execution_count": 5,
   "metadata": {},
   "outputs": [
    {
     "data": {
      "text/plain": [
       "'https://api-fxpractice.oanda.com/v3/instruments/EUR_USD/candles'"
      ]
     },
     "execution_count": 5,
     "metadata": {},
     "output_type": "execute_result"
    }
   ],
   "source": [
    "url"
   ]
  },
  {
   "cell_type": "code",
   "execution_count": 6,
   "metadata": {},
   "outputs": [],
   "source": [
    "params = dict(\n",
    "    count = count,\n",
    "    granularity = granularity,\n",
    "    price = \"MBA\"\n",
    ")"
   ]
  },
  {
   "cell_type": "code",
   "execution_count": 7,
   "metadata": {},
   "outputs": [
    {
     "data": {
      "text/plain": [
       "{'count': 10, 'granularity': 'H1', 'price': 'MBA'}"
      ]
     },
     "execution_count": 7,
     "metadata": {},
     "output_type": "execute_result"
    }
   ],
   "source": [
    "params"
   ]
  },
  {
   "cell_type": "code",
   "execution_count": 8,
   "metadata": {},
   "outputs": [],
   "source": [
    "response = session.get(url, params=params, headers=defs.SECURE_HEADER)"
   ]
  },
  {
   "cell_type": "code",
   "execution_count": 9,
   "metadata": {},
   "outputs": [
    {
     "data": {
      "text/plain": [
       "200"
      ]
     },
     "execution_count": 9,
     "metadata": {},
     "output_type": "execute_result"
    }
   ],
   "source": [
    "response.status_code"
   ]
  },
  {
   "cell_type": "code",
   "execution_count": 12,
   "metadata": {},
   "outputs": [],
   "source": [
    "data = response.json()"
   ]
  },
  {
   "cell_type": "code",
   "execution_count": 13,
   "metadata": {},
   "outputs": [
    {
     "data": {
      "text/plain": [
       "dict_keys(['instrument', 'granularity', 'candles'])"
      ]
     },
     "execution_count": 13,
     "metadata": {},
     "output_type": "execute_result"
    }
   ],
   "source": [
    "data.keys()"
   ]
  },
  {
   "cell_type": "code",
   "execution_count": 14,
   "metadata": {},
   "outputs": [
    {
     "data": {
      "text/plain": [
       "10"
      ]
     },
     "execution_count": 14,
     "metadata": {},
     "output_type": "execute_result"
    }
   ],
   "source": [
    "len(data['candles'])"
   ]
  },
  {
   "cell_type": "code",
   "execution_count": 16,
   "metadata": {},
   "outputs": [],
   "source": [
    "prices = ['mid', 'bid', 'ask']\n",
    "ohlc = ['o', 'h', 'l', 'c']"
   ]
  },
  {
   "cell_type": "code",
   "execution_count": 17,
   "metadata": {},
   "outputs": [
    {
     "name": "stdout",
     "output_type": "stream",
     "text": [
      "mid_o\n",
      "mid_h\n",
      "mid_l\n",
      "mid_c\n",
      "bid_o\n",
      "bid_h\n",
      "bid_l\n",
      "bid_c\n",
      "ask_o\n",
      "ask_h\n",
      "ask_l\n",
      "ask_c\n"
     ]
    }
   ],
   "source": [
    "for price in prices:\n",
    "  for oh in ohlc:\n",
    "    print(f\"{price}_{oh}\")"
   ]
  },
  {
   "cell_type": "code",
   "execution_count": 21,
   "metadata": {},
   "outputs": [
    {
     "data": {
      "text/plain": [
       "'1.07959'"
      ]
     },
     "execution_count": 21,
     "metadata": {},
     "output_type": "execute_result"
    }
   ],
   "source": [
    "data['candles'][0]['bid']['o']"
   ]
  },
  {
   "cell_type": "code",
   "execution_count": 23,
   "metadata": {},
   "outputs": [
    {
     "name": "stdout",
     "output_type": "stream",
     "text": [
      "{'time': '2023-12-06T04:00:00.000000000Z', 'volume': 1516, 'mid_o': '1.07966', 'mid_h': '1.07999', 'mid_l': '1.07936', 'mid_c': '1.07945', 'bid_o': '1.07959', 'bid_h': '1.07992', 'bid_l': '1.07928', 'bid_c': '1.07938', 'ask_o': '1.07974', 'ask_h': '1.08006', 'ask_l': '1.07943', 'ask_c': '1.07952'}\n"
     ]
    }
   ],
   "source": [
    "our_data = []\n",
    "for candle in data['candles']:\n",
    "  if candle['complete'] == False:\n",
    "    continue \n",
    "  new_dict = {}\n",
    "  new_dict['time'] = candle['time']\n",
    "  new_dict['volume'] = candle['volume']\n",
    "  for price in prices:\n",
    "    for oh in ohlc:\n",
    "      new_dict[f\"{price}_{oh}\"] = candle[price][oh]\n",
    "  our_data.append(new_dict)\n",
    "print(our_data[0])"
   ]
  },
  {
   "cell_type": "code",
   "execution_count": 24,
   "metadata": {},
   "outputs": [],
   "source": [
    "candles_df = pd.DataFrame.from_dict(our_data)"
   ]
  },
  {
   "cell_type": "code",
   "execution_count": 25,
   "metadata": {},
   "outputs": [
    {
     "data": {
      "text/html": [
       "<div>\n",
       "<style scoped>\n",
       "    .dataframe tbody tr th:only-of-type {\n",
       "        vertical-align: middle;\n",
       "    }\n",
       "\n",
       "    .dataframe tbody tr th {\n",
       "        vertical-align: top;\n",
       "    }\n",
       "\n",
       "    .dataframe thead th {\n",
       "        text-align: right;\n",
       "    }\n",
       "</style>\n",
       "<table border=\"1\" class=\"dataframe\">\n",
       "  <thead>\n",
       "    <tr style=\"text-align: right;\">\n",
       "      <th></th>\n",
       "      <th>time</th>\n",
       "      <th>volume</th>\n",
       "      <th>mid_o</th>\n",
       "      <th>mid_h</th>\n",
       "      <th>mid_l</th>\n",
       "      <th>mid_c</th>\n",
       "      <th>bid_o</th>\n",
       "      <th>bid_h</th>\n",
       "      <th>bid_l</th>\n",
       "      <th>bid_c</th>\n",
       "      <th>ask_o</th>\n",
       "      <th>ask_h</th>\n",
       "      <th>ask_l</th>\n",
       "      <th>ask_c</th>\n",
       "    </tr>\n",
       "  </thead>\n",
       "  <tbody>\n",
       "    <tr>\n",
       "      <th>0</th>\n",
       "      <td>2023-12-06T04:00:00.000000000Z</td>\n",
       "      <td>1516</td>\n",
       "      <td>1.07966</td>\n",
       "      <td>1.07999</td>\n",
       "      <td>1.07936</td>\n",
       "      <td>1.07945</td>\n",
       "      <td>1.07959</td>\n",
       "      <td>1.07992</td>\n",
       "      <td>1.07928</td>\n",
       "      <td>1.07938</td>\n",
       "      <td>1.07974</td>\n",
       "      <td>1.08006</td>\n",
       "      <td>1.07943</td>\n",
       "      <td>1.07952</td>\n",
       "    </tr>\n",
       "    <tr>\n",
       "      <th>1</th>\n",
       "      <td>2023-12-06T05:00:00.000000000Z</td>\n",
       "      <td>2177</td>\n",
       "      <td>1.07943</td>\n",
       "      <td>1.08019</td>\n",
       "      <td>1.07917</td>\n",
       "      <td>1.08012</td>\n",
       "      <td>1.07936</td>\n",
       "      <td>1.08011</td>\n",
       "      <td>1.07909</td>\n",
       "      <td>1.08004</td>\n",
       "      <td>1.07950</td>\n",
       "      <td>1.08027</td>\n",
       "      <td>1.07925</td>\n",
       "      <td>1.08020</td>\n",
       "    </tr>\n",
       "    <tr>\n",
       "      <th>2</th>\n",
       "      <td>2023-12-06T06:00:00.000000000Z</td>\n",
       "      <td>2169</td>\n",
       "      <td>1.08010</td>\n",
       "      <td>1.08011</td>\n",
       "      <td>1.07879</td>\n",
       "      <td>1.07880</td>\n",
       "      <td>1.08002</td>\n",
       "      <td>1.08003</td>\n",
       "      <td>1.07870</td>\n",
       "      <td>1.07871</td>\n",
       "      <td>1.08019</td>\n",
       "      <td>1.08019</td>\n",
       "      <td>1.07887</td>\n",
       "      <td>1.07888</td>\n",
       "    </tr>\n",
       "    <tr>\n",
       "      <th>3</th>\n",
       "      <td>2023-12-06T07:00:00.000000000Z</td>\n",
       "      <td>4843</td>\n",
       "      <td>1.07882</td>\n",
       "      <td>1.07934</td>\n",
       "      <td>1.07780</td>\n",
       "      <td>1.07902</td>\n",
       "      <td>1.07875</td>\n",
       "      <td>1.07926</td>\n",
       "      <td>1.07773</td>\n",
       "      <td>1.07894</td>\n",
       "      <td>1.07889</td>\n",
       "      <td>1.07941</td>\n",
       "      <td>1.07788</td>\n",
       "      <td>1.07909</td>\n",
       "    </tr>\n",
       "    <tr>\n",
       "      <th>4</th>\n",
       "      <td>2023-12-06T08:00:00.000000000Z</td>\n",
       "      <td>5540</td>\n",
       "      <td>1.07898</td>\n",
       "      <td>1.07904</td>\n",
       "      <td>1.07750</td>\n",
       "      <td>1.07868</td>\n",
       "      <td>1.07890</td>\n",
       "      <td>1.07897</td>\n",
       "      <td>1.07743</td>\n",
       "      <td>1.07860</td>\n",
       "      <td>1.07906</td>\n",
       "      <td>1.07911</td>\n",
       "      <td>1.07757</td>\n",
       "      <td>1.07875</td>\n",
       "    </tr>\n",
       "    <tr>\n",
       "      <th>5</th>\n",
       "      <td>2023-12-06T09:00:00.000000000Z</td>\n",
       "      <td>5148</td>\n",
       "      <td>1.07869</td>\n",
       "      <td>1.07979</td>\n",
       "      <td>1.07860</td>\n",
       "      <td>1.07911</td>\n",
       "      <td>1.07862</td>\n",
       "      <td>1.07972</td>\n",
       "      <td>1.07853</td>\n",
       "      <td>1.07903</td>\n",
       "      <td>1.07876</td>\n",
       "      <td>1.07986</td>\n",
       "      <td>1.07867</td>\n",
       "      <td>1.07919</td>\n",
       "    </tr>\n",
       "    <tr>\n",
       "      <th>6</th>\n",
       "      <td>2023-12-06T10:00:00.000000000Z</td>\n",
       "      <td>4071</td>\n",
       "      <td>1.07912</td>\n",
       "      <td>1.07960</td>\n",
       "      <td>1.07874</td>\n",
       "      <td>1.07911</td>\n",
       "      <td>1.07905</td>\n",
       "      <td>1.07953</td>\n",
       "      <td>1.07867</td>\n",
       "      <td>1.07904</td>\n",
       "      <td>1.07920</td>\n",
       "      <td>1.07968</td>\n",
       "      <td>1.07882</td>\n",
       "      <td>1.07918</td>\n",
       "    </tr>\n",
       "    <tr>\n",
       "      <th>7</th>\n",
       "      <td>2023-12-06T11:00:00.000000000Z</td>\n",
       "      <td>3709</td>\n",
       "      <td>1.07909</td>\n",
       "      <td>1.07909</td>\n",
       "      <td>1.07780</td>\n",
       "      <td>1.07800</td>\n",
       "      <td>1.07901</td>\n",
       "      <td>1.07902</td>\n",
       "      <td>1.07773</td>\n",
       "      <td>1.07792</td>\n",
       "      <td>1.07917</td>\n",
       "      <td>1.07917</td>\n",
       "      <td>1.07788</td>\n",
       "      <td>1.07807</td>\n",
       "    </tr>\n",
       "    <tr>\n",
       "      <th>8</th>\n",
       "      <td>2023-12-06T12:00:00.000000000Z</td>\n",
       "      <td>3832</td>\n",
       "      <td>1.07800</td>\n",
       "      <td>1.07808</td>\n",
       "      <td>1.07724</td>\n",
       "      <td>1.07774</td>\n",
       "      <td>1.07793</td>\n",
       "      <td>1.07800</td>\n",
       "      <td>1.07717</td>\n",
       "      <td>1.07766</td>\n",
       "      <td>1.07807</td>\n",
       "      <td>1.07816</td>\n",
       "      <td>1.07731</td>\n",
       "      <td>1.07781</td>\n",
       "    </tr>\n",
       "  </tbody>\n",
       "</table>\n",
       "</div>"
      ],
      "text/plain": [
       "                             time  volume    mid_o    mid_h    mid_l    mid_c  \\\n",
       "0  2023-12-06T04:00:00.000000000Z    1516  1.07966  1.07999  1.07936  1.07945   \n",
       "1  2023-12-06T05:00:00.000000000Z    2177  1.07943  1.08019  1.07917  1.08012   \n",
       "2  2023-12-06T06:00:00.000000000Z    2169  1.08010  1.08011  1.07879  1.07880   \n",
       "3  2023-12-06T07:00:00.000000000Z    4843  1.07882  1.07934  1.07780  1.07902   \n",
       "4  2023-12-06T08:00:00.000000000Z    5540  1.07898  1.07904  1.07750  1.07868   \n",
       "5  2023-12-06T09:00:00.000000000Z    5148  1.07869  1.07979  1.07860  1.07911   \n",
       "6  2023-12-06T10:00:00.000000000Z    4071  1.07912  1.07960  1.07874  1.07911   \n",
       "7  2023-12-06T11:00:00.000000000Z    3709  1.07909  1.07909  1.07780  1.07800   \n",
       "8  2023-12-06T12:00:00.000000000Z    3832  1.07800  1.07808  1.07724  1.07774   \n",
       "\n",
       "     bid_o    bid_h    bid_l    bid_c    ask_o    ask_h    ask_l    ask_c  \n",
       "0  1.07959  1.07992  1.07928  1.07938  1.07974  1.08006  1.07943  1.07952  \n",
       "1  1.07936  1.08011  1.07909  1.08004  1.07950  1.08027  1.07925  1.08020  \n",
       "2  1.08002  1.08003  1.07870  1.07871  1.08019  1.08019  1.07887  1.07888  \n",
       "3  1.07875  1.07926  1.07773  1.07894  1.07889  1.07941  1.07788  1.07909  \n",
       "4  1.07890  1.07897  1.07743  1.07860  1.07906  1.07911  1.07757  1.07875  \n",
       "5  1.07862  1.07972  1.07853  1.07903  1.07876  1.07986  1.07867  1.07919  \n",
       "6  1.07905  1.07953  1.07867  1.07904  1.07920  1.07968  1.07882  1.07918  \n",
       "7  1.07901  1.07902  1.07773  1.07792  1.07917  1.07917  1.07788  1.07807  \n",
       "8  1.07793  1.07800  1.07717  1.07766  1.07807  1.07816  1.07731  1.07781  "
      ]
     },
     "execution_count": 25,
     "metadata": {},
     "output_type": "execute_result"
    }
   ],
   "source": [
    "candles_df"
   ]
  },
  {
   "cell_type": "code",
   "execution_count": 27,
   "metadata": {},
   "outputs": [],
   "source": [
    "candles_df.to_pickle(\"EUR_USD_H1.pkl\")"
   ]
  },
  {
   "cell_type": "code",
   "execution_count": 28,
   "metadata": {},
   "outputs": [],
   "source": [
    "test_df = pd.read_pickle(\"EUR_USD_H1.pkl\")"
   ]
  },
  {
   "cell_type": "code",
   "execution_count": 29,
   "metadata": {},
   "outputs": [
    {
     "data": {
      "text/html": [
       "<div>\n",
       "<style scoped>\n",
       "    .dataframe tbody tr th:only-of-type {\n",
       "        vertical-align: middle;\n",
       "    }\n",
       "\n",
       "    .dataframe tbody tr th {\n",
       "        vertical-align: top;\n",
       "    }\n",
       "\n",
       "    .dataframe thead th {\n",
       "        text-align: right;\n",
       "    }\n",
       "</style>\n",
       "<table border=\"1\" class=\"dataframe\">\n",
       "  <thead>\n",
       "    <tr style=\"text-align: right;\">\n",
       "      <th></th>\n",
       "      <th>time</th>\n",
       "      <th>volume</th>\n",
       "      <th>mid_o</th>\n",
       "      <th>mid_h</th>\n",
       "      <th>mid_l</th>\n",
       "      <th>mid_c</th>\n",
       "      <th>bid_o</th>\n",
       "      <th>bid_h</th>\n",
       "      <th>bid_l</th>\n",
       "      <th>bid_c</th>\n",
       "      <th>ask_o</th>\n",
       "      <th>ask_h</th>\n",
       "      <th>ask_l</th>\n",
       "      <th>ask_c</th>\n",
       "    </tr>\n",
       "  </thead>\n",
       "  <tbody>\n",
       "    <tr>\n",
       "      <th>0</th>\n",
       "      <td>2023-12-06T04:00:00.000000000Z</td>\n",
       "      <td>1516</td>\n",
       "      <td>1.07966</td>\n",
       "      <td>1.07999</td>\n",
       "      <td>1.07936</td>\n",
       "      <td>1.07945</td>\n",
       "      <td>1.07959</td>\n",
       "      <td>1.07992</td>\n",
       "      <td>1.07928</td>\n",
       "      <td>1.07938</td>\n",
       "      <td>1.07974</td>\n",
       "      <td>1.08006</td>\n",
       "      <td>1.07943</td>\n",
       "      <td>1.07952</td>\n",
       "    </tr>\n",
       "    <tr>\n",
       "      <th>1</th>\n",
       "      <td>2023-12-06T05:00:00.000000000Z</td>\n",
       "      <td>2177</td>\n",
       "      <td>1.07943</td>\n",
       "      <td>1.08019</td>\n",
       "      <td>1.07917</td>\n",
       "      <td>1.08012</td>\n",
       "      <td>1.07936</td>\n",
       "      <td>1.08011</td>\n",
       "      <td>1.07909</td>\n",
       "      <td>1.08004</td>\n",
       "      <td>1.07950</td>\n",
       "      <td>1.08027</td>\n",
       "      <td>1.07925</td>\n",
       "      <td>1.08020</td>\n",
       "    </tr>\n",
       "    <tr>\n",
       "      <th>2</th>\n",
       "      <td>2023-12-06T06:00:00.000000000Z</td>\n",
       "      <td>2169</td>\n",
       "      <td>1.08010</td>\n",
       "      <td>1.08011</td>\n",
       "      <td>1.07879</td>\n",
       "      <td>1.07880</td>\n",
       "      <td>1.08002</td>\n",
       "      <td>1.08003</td>\n",
       "      <td>1.07870</td>\n",
       "      <td>1.07871</td>\n",
       "      <td>1.08019</td>\n",
       "      <td>1.08019</td>\n",
       "      <td>1.07887</td>\n",
       "      <td>1.07888</td>\n",
       "    </tr>\n",
       "    <tr>\n",
       "      <th>3</th>\n",
       "      <td>2023-12-06T07:00:00.000000000Z</td>\n",
       "      <td>4843</td>\n",
       "      <td>1.07882</td>\n",
       "      <td>1.07934</td>\n",
       "      <td>1.07780</td>\n",
       "      <td>1.07902</td>\n",
       "      <td>1.07875</td>\n",
       "      <td>1.07926</td>\n",
       "      <td>1.07773</td>\n",
       "      <td>1.07894</td>\n",
       "      <td>1.07889</td>\n",
       "      <td>1.07941</td>\n",
       "      <td>1.07788</td>\n",
       "      <td>1.07909</td>\n",
       "    </tr>\n",
       "    <tr>\n",
       "      <th>4</th>\n",
       "      <td>2023-12-06T08:00:00.000000000Z</td>\n",
       "      <td>5540</td>\n",
       "      <td>1.07898</td>\n",
       "      <td>1.07904</td>\n",
       "      <td>1.07750</td>\n",
       "      <td>1.07868</td>\n",
       "      <td>1.07890</td>\n",
       "      <td>1.07897</td>\n",
       "      <td>1.07743</td>\n",
       "      <td>1.07860</td>\n",
       "      <td>1.07906</td>\n",
       "      <td>1.07911</td>\n",
       "      <td>1.07757</td>\n",
       "      <td>1.07875</td>\n",
       "    </tr>\n",
       "    <tr>\n",
       "      <th>5</th>\n",
       "      <td>2023-12-06T09:00:00.000000000Z</td>\n",
       "      <td>5148</td>\n",
       "      <td>1.07869</td>\n",
       "      <td>1.07979</td>\n",
       "      <td>1.07860</td>\n",
       "      <td>1.07911</td>\n",
       "      <td>1.07862</td>\n",
       "      <td>1.07972</td>\n",
       "      <td>1.07853</td>\n",
       "      <td>1.07903</td>\n",
       "      <td>1.07876</td>\n",
       "      <td>1.07986</td>\n",
       "      <td>1.07867</td>\n",
       "      <td>1.07919</td>\n",
       "    </tr>\n",
       "    <tr>\n",
       "      <th>6</th>\n",
       "      <td>2023-12-06T10:00:00.000000000Z</td>\n",
       "      <td>4071</td>\n",
       "      <td>1.07912</td>\n",
       "      <td>1.07960</td>\n",
       "      <td>1.07874</td>\n",
       "      <td>1.07911</td>\n",
       "      <td>1.07905</td>\n",
       "      <td>1.07953</td>\n",
       "      <td>1.07867</td>\n",
       "      <td>1.07904</td>\n",
       "      <td>1.07920</td>\n",
       "      <td>1.07968</td>\n",
       "      <td>1.07882</td>\n",
       "      <td>1.07918</td>\n",
       "    </tr>\n",
       "    <tr>\n",
       "      <th>7</th>\n",
       "      <td>2023-12-06T11:00:00.000000000Z</td>\n",
       "      <td>3709</td>\n",
       "      <td>1.07909</td>\n",
       "      <td>1.07909</td>\n",
       "      <td>1.07780</td>\n",
       "      <td>1.07800</td>\n",
       "      <td>1.07901</td>\n",
       "      <td>1.07902</td>\n",
       "      <td>1.07773</td>\n",
       "      <td>1.07792</td>\n",
       "      <td>1.07917</td>\n",
       "      <td>1.07917</td>\n",
       "      <td>1.07788</td>\n",
       "      <td>1.07807</td>\n",
       "    </tr>\n",
       "    <tr>\n",
       "      <th>8</th>\n",
       "      <td>2023-12-06T12:00:00.000000000Z</td>\n",
       "      <td>3832</td>\n",
       "      <td>1.07800</td>\n",
       "      <td>1.07808</td>\n",
       "      <td>1.07724</td>\n",
       "      <td>1.07774</td>\n",
       "      <td>1.07793</td>\n",
       "      <td>1.07800</td>\n",
       "      <td>1.07717</td>\n",
       "      <td>1.07766</td>\n",
       "      <td>1.07807</td>\n",
       "      <td>1.07816</td>\n",
       "      <td>1.07731</td>\n",
       "      <td>1.07781</td>\n",
       "    </tr>\n",
       "  </tbody>\n",
       "</table>\n",
       "</div>"
      ],
      "text/plain": [
       "                             time  volume    mid_o    mid_h    mid_l    mid_c  \\\n",
       "0  2023-12-06T04:00:00.000000000Z    1516  1.07966  1.07999  1.07936  1.07945   \n",
       "1  2023-12-06T05:00:00.000000000Z    2177  1.07943  1.08019  1.07917  1.08012   \n",
       "2  2023-12-06T06:00:00.000000000Z    2169  1.08010  1.08011  1.07879  1.07880   \n",
       "3  2023-12-06T07:00:00.000000000Z    4843  1.07882  1.07934  1.07780  1.07902   \n",
       "4  2023-12-06T08:00:00.000000000Z    5540  1.07898  1.07904  1.07750  1.07868   \n",
       "5  2023-12-06T09:00:00.000000000Z    5148  1.07869  1.07979  1.07860  1.07911   \n",
       "6  2023-12-06T10:00:00.000000000Z    4071  1.07912  1.07960  1.07874  1.07911   \n",
       "7  2023-12-06T11:00:00.000000000Z    3709  1.07909  1.07909  1.07780  1.07800   \n",
       "8  2023-12-06T12:00:00.000000000Z    3832  1.07800  1.07808  1.07724  1.07774   \n",
       "\n",
       "     bid_o    bid_h    bid_l    bid_c    ask_o    ask_h    ask_l    ask_c  \n",
       "0  1.07959  1.07992  1.07928  1.07938  1.07974  1.08006  1.07943  1.07952  \n",
       "1  1.07936  1.08011  1.07909  1.08004  1.07950  1.08027  1.07925  1.08020  \n",
       "2  1.08002  1.08003  1.07870  1.07871  1.08019  1.08019  1.07887  1.07888  \n",
       "3  1.07875  1.07926  1.07773  1.07894  1.07889  1.07941  1.07788  1.07909  \n",
       "4  1.07890  1.07897  1.07743  1.07860  1.07906  1.07911  1.07757  1.07875  \n",
       "5  1.07862  1.07972  1.07853  1.07903  1.07876  1.07986  1.07867  1.07919  \n",
       "6  1.07905  1.07953  1.07867  1.07904  1.07920  1.07968  1.07882  1.07918  \n",
       "7  1.07901  1.07902  1.07773  1.07792  1.07917  1.07917  1.07788  1.07807  \n",
       "8  1.07793  1.07800  1.07717  1.07766  1.07807  1.07816  1.07731  1.07781  "
      ]
     },
     "execution_count": 29,
     "metadata": {},
     "output_type": "execute_result"
    }
   ],
   "source": [
    "test_df"
   ]
  },
  {
   "cell_type": "code",
   "execution_count": null,
   "metadata": {},
   "outputs": [],
   "source": []
  }
 ],
 "metadata": {
  "kernelspec": {
   "display_name": "venv",
   "language": "python",
   "name": "python3"
  },
  "language_info": {
   "codemirror_mode": {
    "name": "ipython",
    "version": 3
   },
   "file_extension": ".py",
   "mimetype": "text/x-python",
   "name": "python",
   "nbconvert_exporter": "python",
   "pygments_lexer": "ipython3",
   "version": "3.10.4"
  }
 },
 "nbformat": 4,
 "nbformat_minor": 2
}
