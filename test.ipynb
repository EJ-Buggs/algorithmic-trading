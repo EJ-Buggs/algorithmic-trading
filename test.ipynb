{
 "cells": [
  {
   "cell_type": "code",
   "execution_count": 1,
   "metadata": {},
   "outputs": [],
   "source": [
    "import requests\n",
    "import defs"
   ]
  },
  {
   "cell_type": "code",
   "execution_count": 2,
   "metadata": {},
   "outputs": [],
   "source": [
    "session = requests.Session()"
   ]
  },
  {
   "cell_type": "code",
   "execution_count": 3,
   "metadata": {},
   "outputs": [],
   "source": [
    "instrument = \"EUR_USD\"\n",
    "count = 10\n",
    "granularity = \"H1\""
   ]
  },
  {
   "cell_type": "code",
   "execution_count": 4,
   "metadata": {},
   "outputs": [],
   "source": [
    "url = f\"{defs.OANDA_URL}/instruments/{instrument}/candles\""
   ]
  },
  {
   "cell_type": "code",
   "execution_count": 5,
   "metadata": {},
   "outputs": [
    {
     "data": {
      "text/plain": [
       "'https://api-fxpractice.oanda.com/v3/instruments/EUR_USD/candles'"
      ]
     },
     "execution_count": 5,
     "metadata": {},
     "output_type": "execute_result"
    }
   ],
   "source": [
    "url"
   ]
  },
  {
   "cell_type": "code",
   "execution_count": 6,
   "metadata": {},
   "outputs": [],
   "source": [
    "params = dict(\n",
    "    count = count,\n",
    "    granularity = granularity,\n",
    "    price = \"MBA\"\n",
    ")"
   ]
  },
  {
   "cell_type": "code",
   "execution_count": 7,
   "metadata": {},
   "outputs": [
    {
     "data": {
      "text/plain": [
       "{'count': 10, 'granularity': 'H1', 'price': 'MBA'}"
      ]
     },
     "execution_count": 7,
     "metadata": {},
     "output_type": "execute_result"
    }
   ],
   "source": [
    "params"
   ]
  },
  {
   "cell_type": "code",
   "execution_count": 8,
   "metadata": {},
   "outputs": [],
   "source": [
    "response = session.get(url, params=params, headers=defs.SECURE_HEADER)"
   ]
  },
  {
   "cell_type": "code",
   "execution_count": 9,
   "metadata": {},
   "outputs": [
    {
     "data": {
      "text/plain": [
       "200"
      ]
     },
     "execution_count": 9,
     "metadata": {},
     "output_type": "execute_result"
    }
   ],
   "source": [
    "response.status_code"
   ]
  },
  {
   "cell_type": "code",
   "execution_count": 10,
   "metadata": {},
   "outputs": [
    {
     "data": {
      "text/plain": [
       "{'instrument': 'EUR_USD',\n",
       " 'granularity': 'H1',\n",
       " 'candles': [{'complete': True,\n",
       "   'volume': 1516,\n",
       "   'time': '2023-12-06T04:00:00.000000000Z',\n",
       "   'bid': {'o': '1.07959', 'h': '1.07992', 'l': '1.07928', 'c': '1.07938'},\n",
       "   'mid': {'o': '1.07966', 'h': '1.07999', 'l': '1.07936', 'c': '1.07945'},\n",
       "   'ask': {'o': '1.07974', 'h': '1.08006', 'l': '1.07943', 'c': '1.07952'}},\n",
       "  {'complete': True,\n",
       "   'volume': 2177,\n",
       "   'time': '2023-12-06T05:00:00.000000000Z',\n",
       "   'bid': {'o': '1.07936', 'h': '1.08011', 'l': '1.07909', 'c': '1.08004'},\n",
       "   'mid': {'o': '1.07943', 'h': '1.08019', 'l': '1.07917', 'c': '1.08012'},\n",
       "   'ask': {'o': '1.07950', 'h': '1.08027', 'l': '1.07925', 'c': '1.08020'}},\n",
       "  {'complete': True,\n",
       "   'volume': 2169,\n",
       "   'time': '2023-12-06T06:00:00.000000000Z',\n",
       "   'bid': {'o': '1.08002', 'h': '1.08003', 'l': '1.07870', 'c': '1.07871'},\n",
       "   'mid': {'o': '1.08010', 'h': '1.08011', 'l': '1.07879', 'c': '1.07880'},\n",
       "   'ask': {'o': '1.08019', 'h': '1.08019', 'l': '1.07887', 'c': '1.07888'}},\n",
       "  {'complete': True,\n",
       "   'volume': 4843,\n",
       "   'time': '2023-12-06T07:00:00.000000000Z',\n",
       "   'bid': {'o': '1.07875', 'h': '1.07926', 'l': '1.07773', 'c': '1.07894'},\n",
       "   'mid': {'o': '1.07882', 'h': '1.07934', 'l': '1.07780', 'c': '1.07902'},\n",
       "   'ask': {'o': '1.07889', 'h': '1.07941', 'l': '1.07788', 'c': '1.07909'}},\n",
       "  {'complete': True,\n",
       "   'volume': 5540,\n",
       "   'time': '2023-12-06T08:00:00.000000000Z',\n",
       "   'bid': {'o': '1.07890', 'h': '1.07897', 'l': '1.07743', 'c': '1.07860'},\n",
       "   'mid': {'o': '1.07898', 'h': '1.07904', 'l': '1.07750', 'c': '1.07868'},\n",
       "   'ask': {'o': '1.07906', 'h': '1.07911', 'l': '1.07757', 'c': '1.07875'}},\n",
       "  {'complete': True,\n",
       "   'volume': 5148,\n",
       "   'time': '2023-12-06T09:00:00.000000000Z',\n",
       "   'bid': {'o': '1.07862', 'h': '1.07972', 'l': '1.07853', 'c': '1.07903'},\n",
       "   'mid': {'o': '1.07869', 'h': '1.07979', 'l': '1.07860', 'c': '1.07911'},\n",
       "   'ask': {'o': '1.07876', 'h': '1.07986', 'l': '1.07867', 'c': '1.07919'}},\n",
       "  {'complete': True,\n",
       "   'volume': 4071,\n",
       "   'time': '2023-12-06T10:00:00.000000000Z',\n",
       "   'bid': {'o': '1.07905', 'h': '1.07953', 'l': '1.07867', 'c': '1.07904'},\n",
       "   'mid': {'o': '1.07912', 'h': '1.07960', 'l': '1.07874', 'c': '1.07911'},\n",
       "   'ask': {'o': '1.07920', 'h': '1.07968', 'l': '1.07882', 'c': '1.07918'}},\n",
       "  {'complete': True,\n",
       "   'volume': 3709,\n",
       "   'time': '2023-12-06T11:00:00.000000000Z',\n",
       "   'bid': {'o': '1.07901', 'h': '1.07902', 'l': '1.07773', 'c': '1.07792'},\n",
       "   'mid': {'o': '1.07909', 'h': '1.07909', 'l': '1.07780', 'c': '1.07800'},\n",
       "   'ask': {'o': '1.07917', 'h': '1.07917', 'l': '1.07788', 'c': '1.07807'}},\n",
       "  {'complete': True,\n",
       "   'volume': 3832,\n",
       "   'time': '2023-12-06T12:00:00.000000000Z',\n",
       "   'bid': {'o': '1.07793', 'h': '1.07800', 'l': '1.07717', 'c': '1.07766'},\n",
       "   'mid': {'o': '1.07800', 'h': '1.07808', 'l': '1.07724', 'c': '1.07774'},\n",
       "   'ask': {'o': '1.07807', 'h': '1.07816', 'l': '1.07731', 'c': '1.07781'}},\n",
       "  {'complete': False,\n",
       "   'volume': 6913,\n",
       "   'time': '2023-12-06T13:00:00.000000000Z',\n",
       "   'bid': {'o': '1.07764', 'h': '1.07941', 'l': '1.07764', 'c': '1.07932'},\n",
       "   'mid': {'o': '1.07772', 'h': '1.07950', 'l': '1.07772', 'c': '1.07940'},\n",
       "   'ask': {'o': '1.07779', 'h': '1.07958', 'l': '1.07779', 'c': '1.07948'}}]}"
      ]
     },
     "execution_count": 10,
     "metadata": {},
     "output_type": "execute_result"
    }
   ],
   "source": [
    "response.json()"
   ]
  }
 ],
 "metadata": {
  "kernelspec": {
   "display_name": "venv",
   "language": "python",
   "name": "python3"
  },
  "language_info": {
   "codemirror_mode": {
    "name": "ipython",
    "version": 3
   },
   "file_extension": ".py",
   "mimetype": "text/x-python",
   "name": "python",
   "nbconvert_exporter": "python",
   "pygments_lexer": "ipython3",
   "version": "3.10.4"
  }
 },
 "nbformat": 4,
 "nbformat_minor": 2
}
